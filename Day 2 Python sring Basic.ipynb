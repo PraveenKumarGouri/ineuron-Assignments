{
  "metadata": {
    "language_info": {
      "codemirror_mode": {
        "name": "python",
        "version": 3
      },
      "file_extension": ".py",
      "mimetype": "text/x-python",
      "name": "python",
      "nbconvert_exporter": "python",
      "pygments_lexer": "ipython3",
      "version": "3.8"
    },
    "kernelspec": {
      "name": "python",
      "display_name": "Pyolite",
      "language": "python"
    }
  },
  "nbformat_minor": 4,
  "nbformat": 4,
  "cells": [
    {
      "cell_type": "markdown",
      "source": "#### s = \"ineuron\"",
      "metadata": {}
    },
    {
      "cell_type": "code",
      "source": "type(s)",
      "metadata": {
        "trusted": true
      },
      "execution_count": 19,
      "outputs": [
        {
          "execution_count": 19,
          "output_type": "execute_result",
          "data": {
            "text/plain": "str"
          },
          "metadata": {}
        }
      ]
    },
    {
      "cell_type": "code",
      "source": "s[0]",
      "metadata": {
        "trusted": true
      },
      "execution_count": 20,
      "outputs": [
        {
          "execution_count": 20,
          "output_type": "execute_result",
          "data": {
            "text/plain": "'S'"
          },
          "metadata": {}
        }
      ]
    },
    {
      "cell_type": "code",
      "source": "s[5]",
      "metadata": {
        "trusted": true
      },
      "execution_count": 21,
      "outputs": [
        {
          "execution_count": 21,
          "output_type": "execute_result",
          "data": {
            "text/plain": "'n'"
          },
          "metadata": {}
        }
      ]
    },
    {
      "cell_type": "code",
      "source": "s[-1]",
      "metadata": {
        "trusted": true
      },
      "execution_count": 22,
      "outputs": [
        {
          "execution_count": 22,
          "output_type": "execute_result",
          "data": {
            "text/plain": "'u'"
          },
          "metadata": {}
        }
      ]
    },
    {
      "cell_type": "code",
      "source": "s1 = 'sudh'",
      "metadata": {
        "trusted": true
      },
      "execution_count": 23,
      "outputs": []
    },
    {
      "cell_type": "code",
      "source": "type(s1)",
      "metadata": {
        "trusted": true
      },
      "execution_count": 24,
      "outputs": [
        {
          "execution_count": 24,
          "output_type": "execute_result",
          "data": {
            "text/plain": "str"
          },
          "metadata": {}
        }
      ]
    },
    {
      "cell_type": "code",
      "source": "s1[0]",
      "metadata": {
        "trusted": true
      },
      "execution_count": 25,
      "outputs": [
        {
          "execution_count": 25,
          "output_type": "execute_result",
          "data": {
            "text/plain": "'s'"
          },
          "metadata": {}
        }
      ]
    },
    {
      "cell_type": "code",
      "source": "s1[-1]",
      "metadata": {
        "trusted": true
      },
      "execution_count": 26,
      "outputs": [
        {
          "execution_count": 26,
          "output_type": "execute_result",
          "data": {
            "text/plain": "'h'"
          },
          "metadata": {}
        }
      ]
    },
    {
      "cell_type": "code",
      "source": "s1[-2]",
      "metadata": {
        "trusted": true
      },
      "execution_count": 27,
      "outputs": [
        {
          "execution_count": 27,
          "output_type": "execute_result",
          "data": {
            "text/plain": "'d'"
          },
          "metadata": {}
        }
      ]
    },
    {
      "cell_type": "code",
      "source": "s2=\"this is my very first programming class's\"",
      "metadata": {
        "trusted": true
      },
      "execution_count": 28,
      "outputs": []
    },
    {
      "cell_type": "code",
      "source": "s2[0]",
      "metadata": {
        "trusted": true
      },
      "execution_count": 29,
      "outputs": [
        {
          "execution_count": 29,
          "output_type": "execute_result",
          "data": {
            "text/plain": "'t'"
          },
          "metadata": {}
        }
      ]
    },
    {
      "cell_type": "code",
      "source": "s2[8]",
      "metadata": {
        "trusted": true
      },
      "execution_count": 30,
      "outputs": [
        {
          "execution_count": 30,
          "output_type": "execute_result",
          "data": {
            "text/plain": "'m'"
          },
          "metadata": {}
        }
      ]
    },
    {
      "cell_type": "code",
      "source": "s2[0:5]",
      "metadata": {
        "trusted": true
      },
      "execution_count": 31,
      "outputs": [
        {
          "execution_count": 31,
          "output_type": "execute_result",
          "data": {
            "text/plain": "'this '"
          },
          "metadata": {}
        }
      ]
    },
    {
      "cell_type": "code",
      "source": "s2[0:15]",
      "metadata": {
        "trusted": true
      },
      "execution_count": 32,
      "outputs": [
        {
          "execution_count": 32,
          "output_type": "execute_result",
          "data": {
            "text/plain": "'this is my very'"
          },
          "metadata": {}
        }
      ]
    },
    {
      "cell_type": "code",
      "source": "s2[6:50]",
      "metadata": {
        "trusted": true
      },
      "execution_count": 33,
      "outputs": [
        {
          "execution_count": 33,
          "output_type": "execute_result",
          "data": {
            "text/plain": "\"s my very first programming class's\""
          },
          "metadata": {}
        }
      ]
    },
    {
      "cell_type": "code",
      "source": "s2[0:100]",
      "metadata": {
        "trusted": true
      },
      "execution_count": 34,
      "outputs": [
        {
          "execution_count": 34,
          "output_type": "execute_result",
          "data": {
            "text/plain": "\"this is my very first programming class's\""
          },
          "metadata": {}
        }
      ]
    },
    {
      "cell_type": "code",
      "source": "s2[0:129009089798]",
      "metadata": {
        "trusted": true
      },
      "execution_count": 35,
      "outputs": [
        {
          "execution_count": 35,
          "output_type": "execute_result",
          "data": {
            "text/plain": "\"this is my very first programming class's\""
          },
          "metadata": {}
        }
      ]
    },
    {
      "cell_type": "code",
      "source": "s2[6:30:2]",
      "metadata": {
        "trusted": true
      },
      "execution_count": 36,
      "outputs": [
        {
          "execution_count": 36,
          "output_type": "execute_result",
          "data": {
            "text/plain": "'sm eyfrtporm'"
          },
          "metadata": {}
        }
      ]
    },
    {
      "cell_type": "code",
      "source": "s=\"sudhanshu\"",
      "metadata": {
        "trusted": true
      },
      "execution_count": 37,
      "outputs": []
    },
    {
      "cell_type": "code",
      "source": "print(s)",
      "metadata": {
        "trusted": true
      },
      "execution_count": 38,
      "outputs": [
        {
          "name": "stdout",
          "text": "sudhanshu\n",
          "output_type": "stream"
        }
      ]
    },
    {
      "cell_type": "code",
      "source": "s[0:8:-1]",
      "metadata": {
        "trusted": true
      },
      "execution_count": 39,
      "outputs": [
        {
          "execution_count": 39,
          "output_type": "execute_result",
          "data": {
            "text/plain": "''"
          },
          "metadata": {}
        }
      ]
    },
    {
      "cell_type": "code",
      "source": "s[8:0:-1]",
      "metadata": {
        "trusted": true
      },
      "execution_count": 40,
      "outputs": [
        {
          "execution_count": 40,
          "output_type": "execute_result",
          "data": {
            "text/plain": "'uhsnahdu'"
          },
          "metadata": {}
        }
      ]
    },
    {
      "cell_type": "code",
      "source": "s[8:0:-2]",
      "metadata": {
        "trusted": true
      },
      "execution_count": 41,
      "outputs": [
        {
          "execution_count": 41,
          "output_type": "execute_result",
          "data": {
            "text/plain": "'usad'"
          },
          "metadata": {}
        }
      ]
    },
    {
      "cell_type": "code",
      "source": "s[:-3]",
      "metadata": {
        "trusted": true
      },
      "execution_count": 42,
      "outputs": [
        {
          "execution_count": 42,
          "output_type": "execute_result",
          "data": {
            "text/plain": "'sudhan'"
          },
          "metadata": {}
        }
      ]
    },
    {
      "cell_type": "code",
      "source": "s[-2:]",
      "metadata": {
        "trusted": true
      },
      "execution_count": 43,
      "outputs": [
        {
          "execution_count": 43,
          "output_type": "execute_result",
          "data": {
            "text/plain": "'hu'"
          },
          "metadata": {}
        }
      ]
    },
    {
      "cell_type": "code",
      "source": "s[::1]",
      "metadata": {
        "trusted": true
      },
      "execution_count": 44,
      "outputs": [
        {
          "execution_count": 44,
          "output_type": "execute_result",
          "data": {
            "text/plain": "'sudhanshu'"
          },
          "metadata": {}
        }
      ]
    },
    {
      "cell_type": "code",
      "source": "s[0:50:1]",
      "metadata": {
        "trusted": true
      },
      "execution_count": 45,
      "outputs": [
        {
          "execution_count": 45,
          "output_type": "execute_result",
          "data": {
            "text/plain": "'sudhanshu'"
          },
          "metadata": {}
        }
      ]
    },
    {
      "cell_type": "code",
      "source": "s[::-1]",
      "metadata": {
        "trusted": true
      },
      "execution_count": 46,
      "outputs": [
        {
          "execution_count": 46,
          "output_type": "execute_result",
          "data": {
            "text/plain": "'uhsnahdus'"
          },
          "metadata": {}
        }
      ]
    },
    {
      "cell_type": "code",
      "source": "s2\n",
      "metadata": {
        "trusted": true
      },
      "execution_count": 47,
      "outputs": [
        {
          "execution_count": 47,
          "output_type": "execute_result",
          "data": {
            "text/plain": "\"this is my very first programming class's\""
          },
          "metadata": {}
        }
      ]
    },
    {
      "cell_type": "code",
      "source": "s2",
      "metadata": {
        "trusted": true
      },
      "execution_count": 48,
      "outputs": [
        {
          "execution_count": 48,
          "output_type": "execute_result",
          "data": {
            "text/plain": "\"this is my very first programming class's\""
          },
          "metadata": {}
        }
      ]
    },
    {
      "cell_type": "code",
      "source": "s2[::-1]",
      "metadata": {
        "trusted": true
      },
      "execution_count": 49,
      "outputs": [
        {
          "execution_count": 49,
          "output_type": "execute_result",
          "data": {
            "text/plain": "\"s'ssalc gnimmargorp tsrif yrev ym si siht\""
          },
          "metadata": {}
        }
      ]
    },
    {
      "cell_type": "code",
      "source": "s",
      "metadata": {
        "trusted": true
      },
      "execution_count": 50,
      "outputs": [
        {
          "execution_count": 50,
          "output_type": "execute_result",
          "data": {
            "text/plain": "'sudhanshu'"
          },
          "metadata": {}
        }
      ]
    },
    {
      "cell_type": "code",
      "source": "s3 = 'ineuron'",
      "metadata": {
        "trusted": true
      },
      "execution_count": 51,
      "outputs": []
    },
    {
      "cell_type": "code",
      "source": "s3[::-1]",
      "metadata": {
        "trusted": true
      },
      "execution_count": 52,
      "outputs": [
        {
          "execution_count": 52,
          "output_type": "execute_result",
          "data": {
            "text/plain": "'norueni'"
          },
          "metadata": {}
        }
      ]
    },
    {
      "cell_type": "code",
      "source": "s3[-2:-7:1]",
      "metadata": {
        "trusted": true
      },
      "execution_count": 53,
      "outputs": [
        {
          "execution_count": 53,
          "output_type": "execute_result",
          "data": {
            "text/plain": "''"
          },
          "metadata": {}
        }
      ]
    },
    {
      "cell_type": "code",
      "source": "s3[-7:-2:1]",
      "metadata": {
        "trusted": true
      },
      "execution_count": 54,
      "outputs": [
        {
          "execution_count": 54,
          "output_type": "execute_result",
          "data": {
            "text/plain": "'ineur'"
          },
          "metadata": {}
        }
      ]
    },
    {
      "cell_type": "code",
      "source": "s[5:0]",
      "metadata": {
        "trusted": true
      },
      "execution_count": 55,
      "outputs": [
        {
          "execution_count": 55,
          "output_type": "execute_result",
          "data": {
            "text/plain": "''"
          },
          "metadata": {}
        }
      ]
    },
    {
      "cell_type": "code",
      "source": "53:52\n",
      "metadata": {
        "trusted": true
      },
      "execution_count": 56,
      "outputs": [
        {
          "ename": "<class 'SyntaxError'>",
          "evalue": "illegal target for annotation (<ipython-input-56-0d78e190c6ff>, line 1)",
          "traceback": [
            "\u001b[0;36m  Input \u001b[0;32mIn [56]\u001b[0;36m\u001b[0m\n\u001b[0;31m    53:52\u001b[0m\n\u001b[0m    ^\u001b[0m\n\u001b[0;31mSyntaxError\u001b[0m\u001b[0;31m:\u001b[0m illegal target for annotation\n"
          ],
          "output_type": "error"
        }
      ]
    },
    {
      "cell_type": "code",
      "source": "s + 1\n",
      "metadata": {
        "trusted": true
      },
      "execution_count": 57,
      "outputs": [
        {
          "ename": "<class 'TypeError'>",
          "evalue": "can only concatenate str (not \"int\") to str",
          "traceback": [
            "\u001b[0;31m---------------------------------------------------------------------------\u001b[0m",
            "\u001b[0;31mTypeError\u001b[0m                                 Traceback (most recent call last)",
            "Input \u001b[0;32mIn [57]\u001b[0m, in \u001b[0;36m<cell line: 1>\u001b[0;34m()\u001b[0m\n\u001b[0;32m----> 1\u001b[0m \u001b[43ms\u001b[49m\u001b[43m \u001b[49m\u001b[38;5;241;43m+\u001b[39;49m\u001b[43m \u001b[49m\u001b[38;5;241;43m1\u001b[39;49m\n",
            "\u001b[0;31mTypeError\u001b[0m: can only concatenate str (not \"int\") to str"
          ],
          "output_type": "error"
        }
      ]
    },
    {
      "cell_type": "code",
      "source": "s+'1'",
      "metadata": {
        "trusted": true
      },
      "execution_count": 58,
      "outputs": [
        {
          "execution_count": 58,
          "output_type": "execute_result",
          "data": {
            "text/plain": "'sudhanshu1'"
          },
          "metadata": {}
        }
      ]
    },
    {
      "cell_type": "code",
      "source": "s+\"1\"",
      "metadata": {
        "trusted": true
      },
      "execution_count": 59,
      "outputs": [
        {
          "execution_count": 59,
          "output_type": "execute_result",
          "data": {
            "text/plain": "'sudhanshu1'"
          },
          "metadata": {}
        }
      ]
    },
    {
      "cell_type": "code",
      "source": "s + str(1)",
      "metadata": {
        "trusted": true
      },
      "execution_count": 60,
      "outputs": [
        {
          "execution_count": 60,
          "output_type": "execute_result",
          "data": {
            "text/plain": "'sudhanshu1'"
          },
          "metadata": {}
        }
      ]
    },
    {
      "cell_type": "code",
      "source": "\"sudh\" + \"456465456\"",
      "metadata": {
        "trusted": true
      },
      "execution_count": 61,
      "outputs": [
        {
          "execution_count": 61,
          "output_type": "execute_result",
          "data": {
            "text/plain": "'sudh456465456'"
          },
          "metadata": {}
        }
      ]
    },
    {
      "cell_type": "code",
      "source": "s",
      "metadata": {
        "trusted": true
      },
      "execution_count": 62,
      "outputs": [
        {
          "execution_count": 62,
          "output_type": "execute_result",
          "data": {
            "text/plain": "'sudhanshu'"
          },
          "metadata": {}
        }
      ]
    },
    {
      "cell_type": "code",
      "source": "len(s)",
      "metadata": {
        "trusted": true
      },
      "execution_count": 63,
      "outputs": [
        {
          "execution_count": 63,
          "output_type": "execute_result",
          "data": {
            "text/plain": "9"
          },
          "metadata": {}
        }
      ]
    },
    {
      "cell_type": "code",
      "source": "s",
      "metadata": {
        "trusted": true
      },
      "execution_count": 64,
      "outputs": [
        {
          "execution_count": 64,
          "output_type": "execute_result",
          "data": {
            "text/plain": "'sudhanshu'"
          },
          "metadata": {}
        }
      ]
    },
    {
      "cell_type": "code",
      "source": "s * 2",
      "metadata": {
        "trusted": true
      },
      "execution_count": 65,
      "outputs": [
        {
          "execution_count": 65,
          "output_type": "execute_result",
          "data": {
            "text/plain": "'sudhanshusudhanshu'"
          },
          "metadata": {}
        }
      ]
    },
    {
      "cell_type": "code",
      "source": "s * 45",
      "metadata": {
        "trusted": true
      },
      "execution_count": 66,
      "outputs": [
        {
          "execution_count": 66,
          "output_type": "execute_result",
          "data": {
            "text/plain": "'sudhanshusudhanshusudhanshusudhanshusudhanshusudhanshusudhanshusudhanshusudhanshusudhanshusudhanshusudhanshusudhanshusudhanshusudhanshusudhanshusudhanshusudhanshusudhanshusudhanshusudhanshusudhanshusudhanshusudhanshusudhanshusudhanshusudhanshusudhanshusudhanshusudhanshusudhanshusudhanshusudhanshusudhanshusudhanshusudhanshusudhanshusudhanshusudhanshusudhanshusudhanshusudhanshusudhanshusudhanshusudhanshu'"
          },
          "metadata": {}
        }
      ]
    },
    {
      "cell_type": "code",
      "source": "s.capitalize",
      "metadata": {
        "trusted": true
      },
      "execution_count": 67,
      "outputs": [
        {
          "execution_count": 67,
          "output_type": "execute_result",
          "data": {
            "text/plain": "<function str.capitalize()>"
          },
          "metadata": {}
        }
      ]
    },
    {
      "cell_type": "code",
      "source": "s.count('su')",
      "metadata": {
        "trusted": true
      },
      "execution_count": 68,
      "outputs": [
        {
          "execution_count": 68,
          "output_type": "execute_result",
          "data": {
            "text/plain": "1"
          },
          "metadata": {}
        }
      ]
    },
    {
      "cell_type": "code",
      "source": "s",
      "metadata": {
        "trusted": true
      },
      "execution_count": 69,
      "outputs": [
        {
          "execution_count": 69,
          "output_type": "execute_result",
          "data": {
            "text/plain": "'sudhanshu'"
          },
          "metadata": {}
        }
      ]
    },
    {
      "cell_type": "code",
      "source": "s.split('u')",
      "metadata": {
        "trusted": true
      },
      "execution_count": 70,
      "outputs": [
        {
          "execution_count": 70,
          "output_type": "execute_result",
          "data": {
            "text/plain": "['s', 'dhansh', '']"
          },
          "metadata": {}
        }
      ]
    },
    {
      "cell_type": "code",
      "source": "sw=\"The Samsung Group (or simply Samsung, stylized as SΛMSUNG) (Korean: 삼성 [samsʌŋ]) is a South Korean multinational manufacturing conglomerate headquartered\"",
      "metadata": {
        "trusted": true
      },
      "execution_count": 71,
      "outputs": []
    },
    {
      "cell_type": "code",
      "source": "sw",
      "metadata": {
        "trusted": true
      },
      "execution_count": 72,
      "outputs": [
        {
          "execution_count": 72,
          "output_type": "execute_result",
          "data": {
            "text/plain": "'The Samsung Group (or simply Samsung, stylized as SΛMSUNG) (Korean: 삼성 [samsʌŋ]) is a South Korean multinational manufacturing conglomerate headquartered'"
          },
          "metadata": {}
        }
      ]
    },
    {
      "cell_type": "code",
      "source": "sw.split( )",
      "metadata": {
        "trusted": true
      },
      "execution_count": 73,
      "outputs": [
        {
          "execution_count": 73,
          "output_type": "execute_result",
          "data": {
            "text/plain": "['The',\n 'Samsung',\n 'Group',\n '(or',\n 'simply',\n 'Samsung,',\n 'stylized',\n 'as',\n 'SΛMSUNG)',\n '(Korean:',\n '삼성',\n '[samsʌŋ])',\n 'is',\n 'a',\n 'South',\n 'Korean',\n 'multinational',\n 'manufacturing',\n 'conglomerate',\n 'headquartered']"
          },
          "metadata": {}
        }
      ]
    },
    {
      "cell_type": "code",
      "source": "sw",
      "metadata": {
        "trusted": true
      },
      "execution_count": 74,
      "outputs": [
        {
          "execution_count": 74,
          "output_type": "execute_result",
          "data": {
            "text/plain": "'The Samsung Group (or simply Samsung, stylized as SΛMSUNG) (Korean: 삼성 [samsʌŋ]) is a South Korean multinational manufacturing conglomerate headquartered'"
          },
          "metadata": {}
        }
      ]
    },
    {
      "cell_type": "code",
      "source": "sw.split( )",
      "metadata": {
        "trusted": true
      },
      "execution_count": 75,
      "outputs": [
        {
          "execution_count": 75,
          "output_type": "execute_result",
          "data": {
            "text/plain": "['The',\n 'Samsung',\n 'Group',\n '(or',\n 'simply',\n 'Samsung,',\n 'stylized',\n 'as',\n 'SΛMSUNG)',\n '(Korean:',\n '삼성',\n '[samsʌŋ])',\n 'is',\n 'a',\n 'South',\n 'Korean',\n 'multinational',\n 'manufacturing',\n 'conglomerate',\n 'headquartered']"
          },
          "metadata": {}
        }
      ]
    },
    {
      "cell_type": "code",
      "source": "sw.upper()",
      "metadata": {
        "trusted": true
      },
      "execution_count": 76,
      "outputs": [
        {
          "execution_count": 76,
          "output_type": "execute_result",
          "data": {
            "text/plain": "'THE SAMSUNG GROUP (OR SIMPLY SAMSUNG, STYLIZED AS SΛMSUNG) (KOREAN: 삼성 [SAMSɅŊ]) IS A SOUTH KOREAN MULTINATIONAL MANUFACTURING CONGLOMERATE HEADQUARTERED'"
          },
          "metadata": {}
        }
      ]
    },
    {
      "cell_type": "code",
      "source": "sw.lower()",
      "metadata": {
        "trusted": true
      },
      "execution_count": 77,
      "outputs": [
        {
          "execution_count": 77,
          "output_type": "execute_result",
          "data": {
            "text/plain": "'the samsung group (or simply samsung, stylized as sλmsung) (korean: 삼성 [samsʌŋ]) is a south korean multinational manufacturing conglomerate headquartered'"
          },
          "metadata": {}
        }
      ]
    },
    {
      "cell_type": "code",
      "source": "sw",
      "metadata": {
        "trusted": true
      },
      "execution_count": 78,
      "outputs": [
        {
          "execution_count": 78,
          "output_type": "execute_result",
          "data": {
            "text/plain": "'The Samsung Group (or simply Samsung, stylized as SΛMSUNG) (Korean: 삼성 [samsʌŋ]) is a South Korean multinational manufacturing conglomerate headquartered'"
          },
          "metadata": {}
        }
      ]
    },
    {
      "cell_type": "code",
      "source": "\"1:40:53\"",
      "metadata": {
        "trusted": true
      },
      "execution_count": 79,
      "outputs": [
        {
          "execution_count": 79,
          "output_type": "execute_result",
          "data": {
            "text/plain": "'1:40:53'"
          },
          "metadata": {}
        }
      ]
    },
    {
      "cell_type": "code",
      "source": "sw.upper()",
      "metadata": {
        "trusted": true
      },
      "execution_count": 80,
      "outputs": [
        {
          "execution_count": 80,
          "output_type": "execute_result",
          "data": {
            "text/plain": "'THE SAMSUNG GROUP (OR SIMPLY SAMSUNG, STYLIZED AS SΛMSUNG) (KOREAN: 삼성 [SAMSɅŊ]) IS A SOUTH KOREAN MULTINATIONAL MANUFACTURING CONGLOMERATE HEADQUARTERED'"
          },
          "metadata": {}
        }
      ]
    },
    {
      "cell_type": "code",
      "source": "sw",
      "metadata": {
        "trusted": true
      },
      "execution_count": 81,
      "outputs": [
        {
          "execution_count": 81,
          "output_type": "execute_result",
          "data": {
            "text/plain": "'The Samsung Group (or simply Samsung, stylized as SΛMSUNG) (Korean: 삼성 [samsʌŋ]) is a South Korean multinational manufacturing conglomerate headquartered'"
          },
          "metadata": {}
        }
      ]
    },
    {
      "cell_type": "code",
      "source": "sw = sw.upper()",
      "metadata": {
        "trusted": true
      },
      "execution_count": 82,
      "outputs": []
    },
    {
      "cell_type": "code",
      "source": "sw",
      "metadata": {
        "trusted": true
      },
      "execution_count": 83,
      "outputs": [
        {
          "execution_count": 83,
          "output_type": "execute_result",
          "data": {
            "text/plain": "'THE SAMSUNG GROUP (OR SIMPLY SAMSUNG, STYLIZED AS SΛMSUNG) (KOREAN: 삼성 [SAMSɅŊ]) IS A SOUTH KOREAN MULTINATIONAL MANUFACTURING CONGLOMERATE HEADQUARTERED'"
          },
          "metadata": {}
        }
      ]
    },
    {
      "cell_type": "code",
      "source": "s.title()",
      "metadata": {
        "trusted": true
      },
      "execution_count": 84,
      "outputs": [
        {
          "execution_count": 84,
          "output_type": "execute_result",
          "data": {
            "text/plain": "'Sudhanshu'"
          },
          "metadata": {}
        }
      ]
    },
    {
      "cell_type": "code",
      "source": "s.capitalize()",
      "metadata": {
        "trusted": true
      },
      "execution_count": 85,
      "outputs": [
        {
          "execution_count": 85,
          "output_type": "execute_result",
          "data": {
            "text/plain": "'Sudhanshu'"
          },
          "metadata": {}
        }
      ]
    },
    {
      "cell_type": "code",
      "source": "s.swapcase()",
      "metadata": {
        "trusted": true
      },
      "execution_count": 86,
      "outputs": [
        {
          "execution_count": 86,
          "output_type": "execute_result",
          "data": {
            "text/plain": "'SUDHANSHU'"
          },
          "metadata": {}
        }
      ]
    },
    {
      "cell_type": "code",
      "source": "s= \"sudhanshu kumar\"",
      "metadata": {
        "trusted": true
      },
      "execution_count": 87,
      "outputs": []
    },
    {
      "cell_type": "code",
      "source": "s",
      "metadata": {
        "trusted": true
      },
      "execution_count": 88,
      "outputs": [
        {
          "execution_count": 88,
          "output_type": "execute_result",
          "data": {
            "text/plain": "'sudhanshu kumar'"
          },
          "metadata": {}
        }
      ]
    },
    {
      "cell_type": "code",
      "source": "s.capitalize()",
      "metadata": {
        "trusted": true
      },
      "execution_count": 89,
      "outputs": [
        {
          "execution_count": 89,
          "output_type": "execute_result",
          "data": {
            "text/plain": "'Sudhanshu kumar'"
          },
          "metadata": {}
        }
      ]
    },
    {
      "cell_type": "code",
      "source": "s.swapcase()",
      "metadata": {
        "trusted": true
      },
      "execution_count": 90,
      "outputs": [
        {
          "execution_count": 90,
          "output_type": "execute_result",
          "data": {
            "text/plain": "'SUDHANSHU KUMAR'"
          },
          "metadata": {}
        }
      ]
    },
    {
      "cell_type": "code",
      "source": "''.join(reversed(s))",
      "metadata": {
        "trusted": true
      },
      "execution_count": 91,
      "outputs": [
        {
          "execution_count": 91,
          "output_type": "execute_result",
          "data": {
            "text/plain": "'ramuk uhsnahdus'"
          },
          "metadata": {}
        }
      ]
    },
    {
      "cell_type": "code",
      "source": "s= \"   su     dh    \"",
      "metadata": {
        "trusted": true
      },
      "execution_count": 92,
      "outputs": []
    },
    {
      "cell_type": "code",
      "source": "s",
      "metadata": {
        "trusted": true
      },
      "execution_count": 93,
      "outputs": [
        {
          "execution_count": 93,
          "output_type": "execute_result",
          "data": {
            "text/plain": "'   su     dh    '"
          },
          "metadata": {}
        }
      ]
    },
    {
      "cell_type": "code",
      "source": "s.strip()",
      "metadata": {
        "trusted": true
      },
      "execution_count": 94,
      "outputs": [
        {
          "execution_count": 94,
          "output_type": "execute_result",
          "data": {
            "text/plain": "'su     dh'"
          },
          "metadata": {}
        }
      ]
    },
    {
      "cell_type": "code",
      "source": "s.rstrip()",
      "metadata": {
        "trusted": true
      },
      "execution_count": 95,
      "outputs": [
        {
          "execution_count": 95,
          "output_type": "execute_result",
          "data": {
            "text/plain": "'   su     dh'"
          },
          "metadata": {}
        }
      ]
    },
    {
      "cell_type": "code",
      "source": "s.rstrip()",
      "metadata": {
        "trusted": true
      },
      "execution_count": 96,
      "outputs": [
        {
          "execution_count": 96,
          "output_type": "execute_result",
          "data": {
            "text/plain": "'   su     dh'"
          },
          "metadata": {}
        }
      ]
    },
    {
      "cell_type": "code",
      "source": "\"a\".join(\"sudhanshu\")",
      "metadata": {
        "trusted": true
      },
      "execution_count": 97,
      "outputs": [
        {
          "execution_count": 97,
          "output_type": "execute_result",
          "data": {
            "text/plain": "'sauadahaaanasahau'"
          },
          "metadata": {}
        }
      ]
    },
    {
      "cell_type": "code",
      "source": "s",
      "metadata": {
        "trusted": true
      },
      "execution_count": 98,
      "outputs": [
        {
          "execution_count": 98,
          "output_type": "execute_result",
          "data": {
            "text/plain": "'   su     dh    '"
          },
          "metadata": {}
        }
      ]
    },
    {
      "cell_type": "code",
      "source": "s= \"sudh\"",
      "metadata": {
        "trusted": true
      },
      "execution_count": 99,
      "outputs": []
    },
    {
      "cell_type": "code",
      "source": "s.center(20,\"#\")",
      "metadata": {
        "trusted": true
      },
      "execution_count": 100,
      "outputs": [
        {
          "execution_count": 100,
          "output_type": "execute_result",
          "data": {
            "text/plain": "'########sudh########'"
          },
          "metadata": {}
        }
      ]
    },
    {
      "cell_type": "code",
      "source": "s=\"Sudhanshu\"",
      "metadata": {
        "trusted": true
      },
      "execution_count": 101,
      "outputs": []
    },
    {
      "cell_type": "code",
      "source": "s.isupper()",
      "metadata": {
        "trusted": true
      },
      "execution_count": 102,
      "outputs": [
        {
          "execution_count": 102,
          "output_type": "execute_result",
          "data": {
            "text/plain": "False"
          },
          "metadata": {}
        }
      ]
    },
    {
      "cell_type": "code",
      "source": "s1=\"SUDH\"",
      "metadata": {
        "trusted": true
      },
      "execution_count": 103,
      "outputs": []
    },
    {
      "cell_type": "code",
      "source": "s1.isupper()",
      "metadata": {
        "trusted": true
      },
      "execution_count": 104,
      "outputs": [
        {
          "execution_count": 104,
          "output_type": "execute_result",
          "data": {
            "text/plain": "True"
          },
          "metadata": {}
        }
      ]
    },
    {
      "cell_type": "code",
      "source": "s.islower()",
      "metadata": {
        "trusted": true
      },
      "execution_count": 105,
      "outputs": [
        {
          "execution_count": 105,
          "output_type": "execute_result",
          "data": {
            "text/plain": "False"
          },
          "metadata": {}
        }
      ]
    },
    {
      "cell_type": "code",
      "source": "s",
      "metadata": {
        "trusted": true
      },
      "execution_count": 106,
      "outputs": [
        {
          "execution_count": 106,
          "output_type": "execute_result",
          "data": {
            "text/plain": "'Sudhanshu'"
          },
          "metadata": {}
        }
      ]
    },
    {
      "cell_type": "code",
      "source": "s.isspace()",
      "metadata": {
        "trusted": true
      },
      "execution_count": 108,
      "outputs": [
        {
          "execution_count": 108,
          "output_type": "execute_result",
          "data": {
            "text/plain": "False"
          },
          "metadata": {}
        }
      ]
    },
    {
      "cell_type": "markdown",
      "source": "s4 = \" \"",
      "metadata": {}
    },
    {
      "cell_type": "code",
      "source": "s4.isspace()",
      "metadata": {
        "trusted": true
      },
      "execution_count": 109,
      "outputs": [
        {
          "execution_count": 109,
          "output_type": "execute_result",
          "data": {
            "text/plain": "True"
          },
          "metadata": {}
        }
      ]
    },
    {
      "cell_type": "code",
      "source": "s",
      "metadata": {
        "trusted": true
      },
      "execution_count": 110,
      "outputs": [
        {
          "execution_count": 110,
          "output_type": "execute_result",
          "data": {
            "text/plain": "'Sudhanshu'"
          },
          "metadata": {}
        }
      ]
    },
    {
      "cell_type": "code",
      "source": "s.isdigit()",
      "metadata": {
        "trusted": true
      },
      "execution_count": 111,
      "outputs": [
        {
          "execution_count": 111,
          "output_type": "execute_result",
          "data": {
            "text/plain": "False"
          },
          "metadata": {}
        }
      ]
    },
    {
      "cell_type": "code",
      "source": "s5 =\"216544\"",
      "metadata": {
        "trusted": true
      },
      "execution_count": 112,
      "outputs": []
    },
    {
      "cell_type": "code",
      "source": "s5.isdigit()",
      "metadata": {
        "trusted": true
      },
      "execution_count": 113,
      "outputs": [
        {
          "execution_count": 113,
          "output_type": "execute_result",
          "data": {
            "text/plain": "True"
          },
          "metadata": {}
        }
      ]
    },
    {
      "cell_type": "code",
      "source": "s6 = \"sdf4654\"",
      "metadata": {
        "trusted": true
      },
      "execution_count": 114,
      "outputs": []
    },
    {
      "cell_type": "code",
      "source": "s6.isdigit()",
      "metadata": {
        "trusted": true
      },
      "execution_count": 115,
      "outputs": [
        {
          "execution_count": 115,
          "output_type": "execute_result",
          "data": {
            "text/plain": "False"
          },
          "metadata": {}
        }
      ]
    },
    {
      "cell_type": "code",
      "source": "s",
      "metadata": {
        "trusted": true
      },
      "execution_count": 116,
      "outputs": [
        {
          "execution_count": 116,
          "output_type": "execute_result",
          "data": {
            "text/plain": "'Sudhanshu'"
          },
          "metadata": {}
        }
      ]
    },
    {
      "cell_type": "code",
      "source": "s.isalnum()",
      "metadata": {
        "trusted": true
      },
      "execution_count": 117,
      "outputs": [
        {
          "execution_count": 117,
          "output_type": "execute_result",
          "data": {
            "text/plain": "True"
          },
          "metadata": {}
        }
      ]
    },
    {
      "cell_type": "code",
      "source": "s.isalpha()",
      "metadata": {
        "trusted": true
      },
      "execution_count": 119,
      "outputs": [
        {
          "execution_count": 119,
          "output_type": "execute_result",
          "data": {
            "text/plain": "True"
          },
          "metadata": {}
        }
      ]
    },
    {
      "cell_type": "code",
      "source": "s7 = \"4564561635sdsfsadf\"",
      "metadata": {
        "trusted": true
      },
      "execution_count": 120,
      "outputs": []
    },
    {
      "cell_type": "code",
      "source": "s7.isalpha()",
      "metadata": {
        "trusted": true
      },
      "execution_count": 121,
      "outputs": [
        {
          "execution_count": 121,
          "output_type": "execute_result",
          "data": {
            "text/plain": "False"
          },
          "metadata": {}
        }
      ]
    },
    {
      "cell_type": "code",
      "source": "s.startswith('i')",
      "metadata": {
        "trusted": true
      },
      "execution_count": 122,
      "outputs": [
        {
          "execution_count": 122,
          "output_type": "execute_result",
          "data": {
            "text/plain": "False"
          },
          "metadata": {}
        }
      ]
    },
    {
      "cell_type": "code",
      "source": "s.startswith(\"S\")",
      "metadata": {
        "trusted": true
      },
      "execution_count": 123,
      "outputs": [
        {
          "execution_count": 123,
          "output_type": "execute_result",
          "data": {
            "text/plain": "True"
          },
          "metadata": {}
        }
      ]
    },
    {
      "cell_type": "code",
      "source": "s.startswith(\"s\")",
      "metadata": {
        "trusted": true
      },
      "execution_count": 125,
      "outputs": [
        {
          "execution_count": 125,
          "output_type": "execute_result",
          "data": {
            "text/plain": "False"
          },
          "metadata": {}
        }
      ]
    },
    {
      "cell_type": "code",
      "source": "s.endswith(\"n\")",
      "metadata": {
        "trusted": true
      },
      "execution_count": 126,
      "outputs": [
        {
          "execution_count": 126,
          "output_type": "execute_result",
          "data": {
            "text/plain": "False"
          },
          "metadata": {}
        }
      ]
    },
    {
      "cell_type": "code",
      "source": "s.endswith(\"u\")",
      "metadata": {
        "trusted": true
      },
      "execution_count": 127,
      "outputs": [
        {
          "execution_count": 127,
          "output_type": "execute_result",
          "data": {
            "text/plain": "True"
          },
          "metadata": {}
        }
      ]
    },
    {
      "cell_type": "code",
      "source": "s7",
      "metadata": {
        "trusted": true
      },
      "execution_count": 128,
      "outputs": [
        {
          "execution_count": 128,
          "output_type": "execute_result",
          "data": {
            "text/plain": "'4564561635sdsfsadf'"
          },
          "metadata": {}
        }
      ]
    },
    {
      "cell_type": "code",
      "source": "s.isdigit()",
      "metadata": {
        "trusted": true
      },
      "execution_count": 129,
      "outputs": [
        {
          "execution_count": 129,
          "output_type": "execute_result",
          "data": {
            "text/plain": "False"
          },
          "metadata": {}
        }
      ]
    },
    {
      "cell_type": "code",
      "source": "s.isnumeric()",
      "metadata": {
        "trusted": true
      },
      "execution_count": 130,
      "outputs": [
        {
          "execution_count": 130,
          "output_type": "execute_result",
          "data": {
            "text/plain": "False"
          },
          "metadata": {}
        }
      ]
    },
    {
      "cell_type": "code",
      "source": "s.startswith(\"\")",
      "metadata": {
        "trusted": true
      },
      "execution_count": 131,
      "outputs": [
        {
          "execution_count": 131,
          "output_type": "execute_result",
          "data": {
            "text/plain": "True"
          },
          "metadata": {}
        }
      ]
    },
    {
      "cell_type": "code",
      "source": "s.isascii()",
      "metadata": {
        "trusted": true
      },
      "execution_count": 132,
      "outputs": [
        {
          "execution_count": 132,
          "output_type": "execute_result",
          "data": {
            "text/plain": "True"
          },
          "metadata": {}
        }
      ]
    },
    {
      "cell_type": "code",
      "source": "s = 'sudhanshu123  '\n\ns.isalnum()",
      "metadata": {
        "trusted": true
      },
      "execution_count": 135,
      "outputs": [
        {
          "execution_count": 135,
          "output_type": "execute_result",
          "data": {
            "text/plain": "False"
          },
          "metadata": {}
        }
      ]
    },
    {
      "cell_type": "code",
      "source": "s = 'hell lo'\ns.isspace()",
      "metadata": {
        "trusted": true
      },
      "execution_count": 136,
      "outputs": [
        {
          "execution_count": 136,
          "output_type": "execute_result",
          "data": {
            "text/plain": "False"
          },
          "metadata": {}
        }
      ]
    },
    {
      "cell_type": "code",
      "source": "s = ' 5 '\ns.isspace()",
      "metadata": {
        "trusted": true
      },
      "execution_count": 140,
      "outputs": [
        {
          "execution_count": 140,
          "output_type": "execute_result",
          "data": {
            "text/plain": "False"
          },
          "metadata": {}
        }
      ]
    },
    {
      "cell_type": "code",
      "source": "s.center(20,'#')",
      "metadata": {
        "trusted": true
      },
      "execution_count": 141,
      "outputs": [
        {
          "execution_count": 141,
          "output_type": "execute_result",
          "data": {
            "text/plain": "'######## 5 #########'"
          },
          "metadata": {}
        }
      ]
    },
    {
      "cell_type": "code",
      "source": "s",
      "metadata": {
        "trusted": true
      },
      "execution_count": 142,
      "outputs": [
        {
          "execution_count": 142,
          "output_type": "execute_result",
          "data": {
            "text/plain": "' 5 '"
          },
          "metadata": {}
        }
      ]
    },
    {
      "cell_type": "code",
      "source": "s1 = '456'\ns1.isalnum()\n",
      "metadata": {
        "trusted": true
      },
      "execution_count": 143,
      "outputs": [
        {
          "execution_count": 143,
          "output_type": "execute_result",
          "data": {
            "text/plain": "True"
          },
          "metadata": {}
        }
      ]
    },
    {
      "cell_type": "code",
      "source": "s=\"this is my very first programming class\"",
      "metadata": {
        "trusted": true
      },
      "execution_count": 144,
      "outputs": []
    },
    {
      "cell_type": "code",
      "source": "s.isspace()",
      "metadata": {
        "trusted": true
      },
      "execution_count": 145,
      "outputs": [
        {
          "execution_count": 145,
          "output_type": "execute_result",
          "data": {
            "text/plain": "False"
          },
          "metadata": {}
        }
      ]
    },
    {
      "cell_type": "code",
      "source": "s = '6    '",
      "metadata": {
        "trusted": true
      },
      "execution_count": 146,
      "outputs": []
    },
    {
      "cell_type": "code",
      "source": "s.isspace()",
      "metadata": {
        "trusted": true
      },
      "execution_count": 147,
      "outputs": [
        {
          "execution_count": 147,
          "output_type": "execute_result",
          "data": {
            "text/plain": "False"
          },
          "metadata": {}
        }
      ]
    },
    {
      "cell_type": "code",
      "source": "s = '45514'",
      "metadata": {
        "trusted": true
      },
      "execution_count": 148,
      "outputs": []
    },
    {
      "cell_type": "code",
      "source": "s.isdigit()",
      "metadata": {
        "trusted": true
      },
      "execution_count": 149,
      "outputs": [
        {
          "execution_count": 149,
          "output_type": "execute_result",
          "data": {
            "text/plain": "True"
          },
          "metadata": {}
        }
      ]
    },
    {
      "cell_type": "code",
      "source": "s1 = 'fsadf4564'",
      "metadata": {
        "trusted": true
      },
      "execution_count": 150,
      "outputs": []
    },
    {
      "cell_type": "code",
      "source": "s1.isnumeric()",
      "metadata": {
        "trusted": true
      },
      "execution_count": 151,
      "outputs": [
        {
          "execution_count": 151,
          "output_type": "execute_result",
          "data": {
            "text/plain": "False"
          },
          "metadata": {}
        }
      ]
    },
    {
      "cell_type": "code",
      "source": "s2 = \" 13213 2121 123123\"",
      "metadata": {
        "trusted": true
      },
      "execution_count": 152,
      "outputs": []
    },
    {
      "cell_type": "code",
      "source": "s2.isnumeric()",
      "metadata": {
        "trusted": true
      },
      "execution_count": 153,
      "outputs": [
        {
          "execution_count": 153,
          "output_type": "execute_result",
          "data": {
            "text/plain": "False"
          },
          "metadata": {}
        }
      ]
    },
    {
      "cell_type": "code",
      "source": "s.isnumeric()",
      "metadata": {
        "trusted": true
      },
      "execution_count": 154,
      "outputs": [
        {
          "execution_count": 154,
          "output_type": "execute_result",
          "data": {
            "text/plain": "True"
          },
          "metadata": {}
        }
      ]
    },
    {
      "cell_type": "code",
      "source": "s = 56",
      "metadata": {
        "trusted": true
      },
      "execution_count": 155,
      "outputs": []
    },
    {
      "cell_type": "code",
      "source": "s=\"sudh\"",
      "metadata": {
        "trusted": true
      },
      "execution_count": 156,
      "outputs": []
    },
    {
      "cell_type": "code",
      "source": "reversed(s)",
      "metadata": {
        "trusted": true
      },
      "execution_count": 157,
      "outputs": [
        {
          "execution_count": 157,
          "output_type": "execute_result",
          "data": {
            "text/plain": "<reversed at 0x3832570>"
          },
          "metadata": {}
        }
      ]
    },
    {
      "cell_type": "code",
      "source": "'d'.join(\"ineuron\")",
      "metadata": {
        "trusted": true
      },
      "execution_count": 158,
      "outputs": [
        {
          "execution_count": 158,
          "output_type": "execute_result",
          "data": {
            "text/plain": "'idndedudrdodn'"
          },
          "metadata": {}
        }
      ]
    },
    {
      "cell_type": "code",
      "source": "\"\".join(reversed(\"sudh\"))",
      "metadata": {
        "trusted": true
      },
      "execution_count": 159,
      "outputs": [
        {
          "execution_count": 159,
          "output_type": "execute_result",
          "data": {
            "text/plain": "'hdus'"
          },
          "metadata": {}
        }
      ]
    },
    {
      "cell_type": "code",
      "source": "s = \"541212.16534\"",
      "metadata": {
        "trusted": true
      },
      "execution_count": 160,
      "outputs": []
    },
    {
      "cell_type": "code",
      "source": "s.isdigit()",
      "metadata": {
        "trusted": true
      },
      "execution_count": 161,
      "outputs": [
        {
          "execution_count": 161,
          "output_type": "execute_result",
          "data": {
            "text/plain": "False"
          },
          "metadata": {}
        }
      ]
    },
    {
      "cell_type": "code",
      "source": "s.isnumeric()",
      "metadata": {
        "trusted": true
      },
      "execution_count": 162,
      "outputs": [
        {
          "execution_count": 162,
          "output_type": "execute_result",
          "data": {
            "text/plain": "False"
          },
          "metadata": {}
        }
      ]
    },
    {
      "cell_type": "code",
      "source": "s='sudhanshu\\kumar\\tineuron'",
      "metadata": {
        "trusted": true
      },
      "execution_count": 163,
      "outputs": []
    },
    {
      "cell_type": "code",
      "source": "s.expandtabs()",
      "metadata": {
        "trusted": true
      },
      "execution_count": 165,
      "outputs": [
        {
          "execution_count": 165,
          "output_type": "execute_result",
          "data": {
            "text/plain": "'sudhanshu\\\\kumar ineuron'"
          },
          "metadata": {}
        }
      ]
    },
    {
      "cell_type": "code",
      "source": "s = \"this is my first python programming class and i am learning python string and its function\"\n1. try to extract data from index one to index 300 with a jump of 3 \n2. try to reverser a string without usingfunction \n3. try to split a string after conversion of entire string in uppercase\n4. try to convert the whole string into lower case \\\n5. try to captialize the whole sting \n6. write difference between isalnum() and isalpha()\n7. try to give an example of expand tab\n8. give an example of strip, lstrip and rstrip\n9.  replace a string charecter by another charecter by taking your own example \n10.try to give a defination of sting center function with example \n11. write your own defination of compiler and intercepter without copy and paste from inmternet in your own \n12.hon is intrepeted of compiled language give a clear and with your understanding \n13. try to write a usecase of python with your understanding ",
      "metadata": {
        "trusted": true
      },
      "execution_count": 166,
      "outputs": [
        {
          "ename": "<class 'SyntaxError'>",
          "evalue": "invalid decimal literal (<ipython-input-166-28d5f25d5dfd>, line 11)",
          "traceback": [
            "\u001b[0;36m  Input \u001b[0;32mIn [166]\u001b[0;36m\u001b[0m\n\u001b[0;31m    10.try to give a defination of sting center function with example\u001b[0m\n\u001b[0m      ^\u001b[0m\n\u001b[0;31mSyntaxError\u001b[0m\u001b[0;31m:\u001b[0m invalid decimal literal\n"
          ],
          "output_type": "error"
        }
      ]
    },
    {
      "cell_type": "code",
      "source": "",
      "metadata": {},
      "execution_count": null,
      "outputs": []
    }
  ]
}