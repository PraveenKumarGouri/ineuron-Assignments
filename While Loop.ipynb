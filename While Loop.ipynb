{
 "cells": [
  {
   "cell_type": "code",
   "execution_count": 1,
   "id": "5a57d0a5",
   "metadata": {},
   "outputs": [
    {
     "name": "stdout",
     "output_type": "stream",
     "text": [
      "1\n",
      "2\n",
      "3\n",
      "4\n",
      "5\n",
      "6\n",
      "7\n",
      "8\n",
      "9\n",
      "10\n"
     ]
    }
   ],
   "source": [
    "a = 1\n",
    "b = 10\n",
    "\n",
    "while a<=b :\n",
    "    print(a)\n",
    "    a=a+1"
   ]
  },
  {
   "cell_type": "code",
   "execution_count": 2,
   "id": "638842f9",
   "metadata": {},
   "outputs": [
    {
     "name": "stdout",
     "output_type": "stream",
     "text": [
      "1\n",
      "3\n",
      "5\n",
      "7\n",
      "9\n",
      "print this else block\n"
     ]
    }
   ],
   "source": [
    "a =1\n",
    "b =10\n",
    "while a <= b :\n",
    "    print(a)\n",
    "    a = a +2\n",
    "else :\n",
    "    print(\"print this else block\")"
   ]
  },
  {
   "cell_type": "code",
   "execution_count": 3,
   "id": "e23c002f",
   "metadata": {},
   "outputs": [
    {
     "name": "stdout",
     "output_type": "stream",
     "text": [
      "1\n",
      "2\n",
      "3\n",
      "4\n",
      "5\n"
     ]
    }
   ],
   "source": [
    "a=1\n",
    "b=10\n",
    "while a<=b:\n",
    "    print(a)\n",
    "    if a ==5:\n",
    "        break\n",
    "    a=a+1\n",
    "else:\n",
    "    print(\"print this\")"
   ]
  },
  {
   "cell_type": "code",
   "execution_count": 4,
   "id": "8fa0bfc2",
   "metadata": {},
   "outputs": [],
   "source": [
    "#a = 1 \n",
    "#b=10\n",
    "#while a<b :\n",
    " #   print(a)\n",
    "  #  \n",
    "   # if a == 3:\n",
    "    #    continue\n",
    "    #a = a + 1"
   ]
  },
  {
   "cell_type": "code",
   "execution_count": 5,
   "id": "5c9e7dfe",
   "metadata": {},
   "outputs": [
    {
     "name": "stdout",
     "output_type": "stream",
     "text": [
      "1\n",
      "2\n",
      "3\n",
      "4\n",
      "5\n",
      "6\n",
      "7\n",
      "8\n",
      "9\n"
     ]
    }
   ],
   "source": [
    "a =1 \n",
    "b=10\n",
    "while a<b :\n",
    "    print(a)\n",
    "    a = a + 1\n",
    "    if a == 3:\n",
    "        continue\n",
    "    "
   ]
  },
  {
   "cell_type": "code",
   "execution_count": 6,
   "id": "a5c11afb",
   "metadata": {},
   "outputs": [
    {
     "name": "stdout",
     "output_type": "stream",
     "text": [
      "2\n",
      "4\n",
      "5\n",
      "6\n",
      "7\n",
      "8\n",
      "9\n",
      "10\n"
     ]
    }
   ],
   "source": [
    "a =1 \n",
    "b=10\n",
    "while a<b :\n",
    "    \n",
    "    a = a + 1\n",
    "    if a == 3:\n",
    "        continue\n",
    "    print(a)"
   ]
  },
  {
   "cell_type": "code",
   "execution_count": 7,
   "id": "f397b37c",
   "metadata": {},
   "outputs": [
    {
     "name": "stdout",
     "output_type": "stream",
     "text": [
      "2\n",
      "3\n",
      "4\n",
      "5\n",
      "6\n",
      "7\n",
      "8\n",
      "9\n",
      "10\n"
     ]
    }
   ],
   "source": [
    "a =1 \n",
    "b=10\n",
    "while a<b :\n",
    "    a = a + 1\n",
    "    if a == 3:\n",
    "        pass\n",
    "    print(a)"
   ]
  },
  {
   "cell_type": "code",
   "execution_count": 8,
   "id": "ee87c39a",
   "metadata": {},
   "outputs": [],
   "source": [
    "l =[1,2,3,4,65,56]"
   ]
  },
  {
   "cell_type": "code",
   "execution_count": 9,
   "id": "213e0363",
   "metadata": {},
   "outputs": [
    {
     "name": "stdout",
     "output_type": "stream",
     "text": [
      "1\n",
      "2\n",
      "3\n",
      "4\n",
      "65\n",
      "56\n"
     ]
    }
   ],
   "source": [
    "for i in l:\n",
    "    print(i)"
   ]
  },
  {
   "cell_type": "code",
   "execution_count": 10,
   "id": "f20a40c9",
   "metadata": {},
   "outputs": [],
   "source": [
    "#while i in l:\n",
    "   # print(l)"
   ]
  },
  {
   "cell_type": "code",
   "execution_count": 11,
   "id": "3042ebd0",
   "metadata": {},
   "outputs": [
    {
     "name": "stdout",
     "output_type": "stream",
     "text": [
      "1\n",
      "2\n",
      "3\n",
      "4\n",
      "65\n",
      "56\n"
     ]
    }
   ],
   "source": [
    "a = 0\n",
    "while a < len(l):\n",
    "    print(l[a])\n",
    "    a = a+1"
   ]
  },
  {
   "cell_type": "code",
   "execution_count": 12,
   "id": "0e0bd68c",
   "metadata": {},
   "outputs": [
    {
     "data": {
      "text/plain": [
       "[1, 2, 3, 4, 65, 56]"
      ]
     },
     "execution_count": 12,
     "metadata": {},
     "output_type": "execute_result"
    }
   ],
   "source": [
    "l"
   ]
  },
  {
   "cell_type": "code",
   "execution_count": 13,
   "id": "7a355fd8",
   "metadata": {},
   "outputs": [
    {
     "data": {
      "text/plain": [
       "6"
      ]
     },
     "execution_count": 13,
     "metadata": {},
     "output_type": "execute_result"
    }
   ],
   "source": [
    "len(l)"
   ]
  },
  {
   "cell_type": "code",
   "execution_count": 14,
   "id": "54331c68",
   "metadata": {},
   "outputs": [],
   "source": [
    "t=(3,4,5,6,7,8,9)"
   ]
  },
  {
   "cell_type": "code",
   "execution_count": 15,
   "id": "630678e5",
   "metadata": {},
   "outputs": [
    {
     "name": "stdout",
     "output_type": "stream",
     "text": [
      "3\n",
      "4\n"
     ]
    }
   ],
   "source": [
    "a = 0\n",
    "while a <len(t) :\n",
    "    if t[a] == 6 or t[a] == 7 :\n",
    "        print(a)\n",
    "    a = a+1"
   ]
  },
  {
   "cell_type": "code",
   "execution_count": 16,
   "id": "feb2030c",
   "metadata": {},
   "outputs": [
    {
     "name": "stdout",
     "output_type": "stream",
     "text": [
      "-3\n",
      "-4\n"
     ]
    }
   ],
   "source": [
    "a = -1\n",
    "while a >-len(t) :\n",
    "    if t[a] == 6 or t[a] == 7 :\n",
    "        print(a)\n",
    "    a = a-1"
   ]
  },
  {
   "cell_type": "code",
   "execution_count": 17,
   "id": "f9e10510",
   "metadata": {},
   "outputs": [
    {
     "name": "stdout",
     "output_type": "stream",
     "text": [
      "index of 7 is -3\n",
      "index of 6 is -4\n"
     ]
    }
   ],
   "source": [
    "a=-1\n",
    "while a>=-len(t):\n",
    "    if t[a]==6 or t[a]==7 :\n",
    "        print('index of' ,t[a], 'is',a)\n",
    "    a=a-1\n",
    "    "
   ]
  },
  {
   "cell_type": "code",
   "execution_count": 18,
   "id": "fed91820",
   "metadata": {},
   "outputs": [
    {
     "name": "stdout",
     "output_type": "stream",
     "text": [
      "index of 7 is -3\n",
      "index of 6 is -4\n"
     ]
    }
   ],
   "source": [
    "a =-1\n",
    "while a>-len(t):\n",
    "    if t[a]==6 or t[a]==7 :\n",
    "        print('index of',t[a],'is',a)\n",
    "    a=a-1"
   ]
  },
  {
   "cell_type": "code",
   "execution_count": 19,
   "id": "5ae12705",
   "metadata": {},
   "outputs": [
    {
     "data": {
      "text/plain": [
       "(3, 4, 5, 6, 7, 8, 9)"
      ]
     },
     "execution_count": 19,
     "metadata": {},
     "output_type": "execute_result"
    }
   ],
   "source": [
    "t"
   ]
  },
  {
   "cell_type": "code",
   "execution_count": 20,
   "id": "01e12872",
   "metadata": {},
   "outputs": [],
   "source": [
    " d ={'k1' : \"sudh\", \"k2\" : [1,2,3,4],\"k3\" : (2,3,4,5)}"
   ]
  },
  {
   "cell_type": "code",
   "execution_count": 21,
   "id": "82b7af46",
   "metadata": {},
   "outputs": [
    {
     "data": {
      "text/plain": [
       "3"
      ]
     },
     "execution_count": 21,
     "metadata": {},
     "output_type": "execute_result"
    }
   ],
   "source": [
    "len(d)"
   ]
  },
  {
   "cell_type": "code",
   "execution_count": 22,
   "id": "d1c0b34f",
   "metadata": {},
   "outputs": [
    {
     "name": "stdout",
     "output_type": "stream",
     "text": [
      "sudh\n",
      "[1, 2, 3, 4]\n",
      "(2, 3, 4, 5)\n"
     ]
    }
   ],
   "source": [
    "a=0\n",
    "b= list(d.keys())\n",
    "while a < len(d):\n",
    "    print(d[b[a]])\n",
    "    \n",
    "    a = a+1"
   ]
  },
  {
   "cell_type": "code",
   "execution_count": 23,
   "id": "d3ae6e25",
   "metadata": {},
   "outputs": [],
   "source": [
    "b= list(d.keys())"
   ]
  },
  {
   "cell_type": "code",
   "execution_count": 24,
   "id": "9f47105c",
   "metadata": {},
   "outputs": [
    {
     "data": {
      "text/plain": [
       "['k1', 'k2', 'k3']"
      ]
     },
     "execution_count": 24,
     "metadata": {},
     "output_type": "execute_result"
    }
   ],
   "source": [
    "b"
   ]
  },
  {
   "cell_type": "code",
   "execution_count": 25,
   "id": "ac1d6948",
   "metadata": {},
   "outputs": [],
   "source": [
    "c= list(d.values())"
   ]
  },
  {
   "cell_type": "code",
   "execution_count": 26,
   "id": "e1cffb30",
   "metadata": {},
   "outputs": [
    {
     "data": {
      "text/plain": [
       "['sudh', [1, 2, 3, 4], (2, 3, 4, 5)]"
      ]
     },
     "execution_count": 26,
     "metadata": {},
     "output_type": "execute_result"
    }
   ],
   "source": [
    "c"
   ]
  },
  {
   "cell_type": "code",
   "execution_count": 27,
   "id": "376b1ccc",
   "metadata": {},
   "outputs": [],
   "source": [
    "#Function\n"
   ]
  },
  {
   "cell_type": "code",
   "execution_count": 28,
   "id": "ddde3a17",
   "metadata": {},
   "outputs": [],
   "source": [
    "def test():\n",
    "    print(\"this is my first function\")"
   ]
  },
  {
   "cell_type": "code",
   "execution_count": 29,
   "id": "c73bf9a9",
   "metadata": {},
   "outputs": [
    {
     "name": "stdout",
     "output_type": "stream",
     "text": [
      "this is my first function\n"
     ]
    }
   ],
   "source": [
    "test()"
   ]
  },
  {
   "cell_type": "code",
   "execution_count": 30,
   "id": "d6dd1972",
   "metadata": {},
   "outputs": [
    {
     "name": "stdout",
     "output_type": "stream",
     "text": [
      "this is my first function\n"
     ]
    },
    {
     "data": {
      "text/plain": [
       "NoneType"
      ]
     },
     "execution_count": 30,
     "metadata": {},
     "output_type": "execute_result"
    }
   ],
   "source": [
    "type(test())"
   ]
  },
  {
   "cell_type": "code",
   "execution_count": 31,
   "id": "dc3a0902",
   "metadata": {},
   "outputs": [
    {
     "name": "stdout",
     "output_type": "stream",
     "text": [
      "this is my first function\n"
     ]
    },
    {
     "data": {
      "text/plain": [
       "'None sudh'"
      ]
     },
     "execution_count": 31,
     "metadata": {},
     "output_type": "execute_result"
    }
   ],
   "source": [
    "str(test()) + \" sudh\""
   ]
  },
  {
   "cell_type": "code",
   "execution_count": 32,
   "id": "eb3e404c",
   "metadata": {},
   "outputs": [],
   "source": [
    "def test1():\n",
    "    return \"this is my first fun\""
   ]
  },
  {
   "cell_type": "code",
   "execution_count": 33,
   "id": "293aafe4",
   "metadata": {},
   "outputs": [
    {
     "data": {
      "text/plain": [
       "'this is my first fun'"
      ]
     },
     "execution_count": 33,
     "metadata": {},
     "output_type": "execute_result"
    }
   ],
   "source": [
    "test1()"
   ]
  },
  {
   "cell_type": "code",
   "execution_count": 34,
   "id": "361a06f2",
   "metadata": {},
   "outputs": [
    {
     "data": {
      "text/plain": [
       "str"
      ]
     },
     "execution_count": 34,
     "metadata": {},
     "output_type": "execute_result"
    }
   ],
   "source": [
    "type(test1())"
   ]
  },
  {
   "cell_type": "code",
   "execution_count": 35,
   "id": "b905a27e",
   "metadata": {},
   "outputs": [
    {
     "data": {
      "text/plain": [
       "'this is my first fun sudh'"
      ]
     },
     "execution_count": 35,
     "metadata": {},
     "output_type": "execute_result"
    }
   ],
   "source": [
    "test1() +\" sudh\""
   ]
  },
  {
   "cell_type": "code",
   "execution_count": 36,
   "id": "10f48084",
   "metadata": {},
   "outputs": [],
   "source": [
    "def test2():\n",
    "    pass"
   ]
  },
  {
   "cell_type": "code",
   "execution_count": 37,
   "id": "69371929",
   "metadata": {},
   "outputs": [],
   "source": [
    "def test3():\n",
    "    return 1,3,5, [1,2,3,4,54,5]"
   ]
  },
  {
   "cell_type": "code",
   "execution_count": 38,
   "id": "693b212e",
   "metadata": {},
   "outputs": [
    {
     "data": {
      "text/plain": [
       "(1, 3, 5, [1, 2, 3, 4, 54, 5])"
      ]
     },
     "execution_count": 38,
     "metadata": {},
     "output_type": "execute_result"
    }
   ],
   "source": [
    "test3()"
   ]
  },
  {
   "cell_type": "code",
   "execution_count": 39,
   "id": "390f11b8",
   "metadata": {},
   "outputs": [],
   "source": [
    "a=test3()"
   ]
  },
  {
   "cell_type": "code",
   "execution_count": 40,
   "id": "00bf3d50",
   "metadata": {},
   "outputs": [
    {
     "data": {
      "text/plain": [
       "(1, 3, 5, [1, 2, 3, 4, 54, 5])"
      ]
     },
     "execution_count": 40,
     "metadata": {},
     "output_type": "execute_result"
    }
   ],
   "source": [
    "a"
   ]
  },
  {
   "cell_type": "code",
   "execution_count": 41,
   "id": "f13d34ab",
   "metadata": {},
   "outputs": [],
   "source": [
    "a=10\n",
    "b=20\n",
    "c=30\n"
   ]
  },
  {
   "cell_type": "code",
   "execution_count": 42,
   "id": "881879b3",
   "metadata": {},
   "outputs": [],
   "source": [
    "a,b,c=(23,45,56)"
   ]
  },
  {
   "cell_type": "code",
   "execution_count": 43,
   "id": "3c6a7351",
   "metadata": {},
   "outputs": [],
   "source": [
    "a,b,c,d=test3()"
   ]
  },
  {
   "cell_type": "code",
   "execution_count": 44,
   "id": "4b36b189",
   "metadata": {},
   "outputs": [
    {
     "data": {
      "text/plain": [
       "1"
      ]
     },
     "execution_count": 44,
     "metadata": {},
     "output_type": "execute_result"
    }
   ],
   "source": [
    "a"
   ]
  },
  {
   "cell_type": "code",
   "execution_count": 45,
   "id": "56eceb95",
   "metadata": {},
   "outputs": [
    {
     "data": {
      "text/plain": [
       "3"
      ]
     },
     "execution_count": 45,
     "metadata": {},
     "output_type": "execute_result"
    }
   ],
   "source": [
    "b"
   ]
  },
  {
   "cell_type": "code",
   "execution_count": 46,
   "id": "c40dab04",
   "metadata": {},
   "outputs": [
    {
     "data": {
      "text/plain": [
       "5"
      ]
     },
     "execution_count": 46,
     "metadata": {},
     "output_type": "execute_result"
    }
   ],
   "source": [
    "c"
   ]
  },
  {
   "cell_type": "code",
   "execution_count": 47,
   "id": "fb9f81e0",
   "metadata": {},
   "outputs": [
    {
     "data": {
      "text/plain": [
       "[1, 2, 3, 4, 54, 5]"
      ]
     },
     "execution_count": 47,
     "metadata": {},
     "output_type": "execute_result"
    }
   ],
   "source": [
    "d"
   ]
  },
  {
   "cell_type": "code",
   "execution_count": 48,
   "id": "63f004dc",
   "metadata": {},
   "outputs": [],
   "source": [
    "def test4():\n",
    "    a=4*5\n",
    "    b= 6+4\n",
    "    return a,b"
   ]
  },
  {
   "cell_type": "code",
   "execution_count": 49,
   "id": "b80d7c11",
   "metadata": {},
   "outputs": [
    {
     "data": {
      "text/plain": [
       "(20, 10)"
      ]
     },
     "execution_count": 49,
     "metadata": {},
     "output_type": "execute_result"
    }
   ],
   "source": [
    "test4()"
   ]
  },
  {
   "cell_type": "code",
   "execution_count": 50,
   "id": "888f3646",
   "metadata": {},
   "outputs": [],
   "source": [
    "g=test4()"
   ]
  },
  {
   "cell_type": "code",
   "execution_count": 51,
   "id": "62f58f86",
   "metadata": {},
   "outputs": [
    {
     "data": {
      "text/plain": [
       "(20, 10)"
      ]
     },
     "execution_count": 51,
     "metadata": {},
     "output_type": "execute_result"
    }
   ],
   "source": [
    "g"
   ]
  },
  {
   "cell_type": "code",
   "execution_count": 52,
   "id": "89c7fec3",
   "metadata": {},
   "outputs": [],
   "source": [
    "j,k = test4()"
   ]
  },
  {
   "cell_type": "code",
   "execution_count": 53,
   "id": "d85d2be7",
   "metadata": {},
   "outputs": [
    {
     "data": {
      "text/plain": [
       "20"
      ]
     },
     "execution_count": 53,
     "metadata": {},
     "output_type": "execute_result"
    }
   ],
   "source": [
    "j"
   ]
  },
  {
   "cell_type": "code",
   "execution_count": 54,
   "id": "fa10a3b2",
   "metadata": {},
   "outputs": [
    {
     "data": {
      "text/plain": [
       "10"
      ]
     },
     "execution_count": 54,
     "metadata": {},
     "output_type": "execute_result"
    }
   ],
   "source": [
    "k"
   ]
  },
  {
   "cell_type": "code",
   "execution_count": 55,
   "id": "3d4ddaa6",
   "metadata": {},
   "outputs": [],
   "source": [
    "_, m =test4()"
   ]
  },
  {
   "cell_type": "code",
   "execution_count": 56,
   "id": "185cef66",
   "metadata": {},
   "outputs": [
    {
     "data": {
      "text/plain": [
       "10"
      ]
     },
     "execution_count": 56,
     "metadata": {},
     "output_type": "execute_result"
    }
   ],
   "source": [
    "m"
   ]
  },
  {
   "cell_type": "code",
   "execution_count": 57,
   "id": "48a187ad",
   "metadata": {},
   "outputs": [
    {
     "data": {
      "text/plain": [
       "20"
      ]
     },
     "execution_count": 57,
     "metadata": {},
     "output_type": "execute_result"
    }
   ],
   "source": [
    "_"
   ]
  },
  {
   "cell_type": "code",
   "execution_count": 58,
   "id": "c772ea8f",
   "metadata": {},
   "outputs": [
    {
     "data": {
      "text/plain": [
       "(1, 3, 5, [1, 2, 3, 4, 54, 5])"
      ]
     },
     "execution_count": 58,
     "metadata": {},
     "output_type": "execute_result"
    }
   ],
   "source": [
    "test3()"
   ]
  },
  {
   "cell_type": "code",
   "execution_count": 59,
   "id": "ba673dfa",
   "metadata": {},
   "outputs": [],
   "source": [
    "_,_,_,g = test3()"
   ]
  },
  {
   "cell_type": "code",
   "execution_count": 60,
   "id": "0d372207",
   "metadata": {},
   "outputs": [
    {
     "data": {
      "text/plain": [
       "[1, 2, 3, 4, 54, 5]"
      ]
     },
     "execution_count": 60,
     "metadata": {},
     "output_type": "execute_result"
    }
   ],
   "source": [
    "g"
   ]
  },
  {
   "cell_type": "code",
   "execution_count": 61,
   "id": "b189b340",
   "metadata": {},
   "outputs": [
    {
     "name": "stdout",
     "output_type": "stream",
     "text": [
      "1\n",
      "3\n",
      "5\n",
      "7\n",
      "9\n",
      "print this else block\n"
     ]
    }
   ],
   "source": [
    "a = 1\n",
    "b = 10\n",
    "while a<=b :\n",
    "    print(a)\n",
    "    a=a+2\n",
    "else:\n",
    "    print(\"print this else block\")"
   ]
  },
  {
   "cell_type": "code",
   "execution_count": 62,
   "id": "2349153b",
   "metadata": {},
   "outputs": [],
   "source": [
    "def test5() :\n",
    "    a = 1\n",
    "    b = 10\n",
    "    while a<=b :\n",
    "        print(a)\n",
    "        a=a+2\n",
    "    else:\n",
    "        print(\"print this else block\")"
   ]
  },
  {
   "cell_type": "code",
   "execution_count": 63,
   "id": "09d61b57",
   "metadata": {},
   "outputs": [
    {
     "name": "stdout",
     "output_type": "stream",
     "text": [
      "1\n",
      "3\n",
      "5\n",
      "7\n",
      "9\n",
      "print this else block\n"
     ]
    }
   ],
   "source": [
    "test5()"
   ]
  },
  {
   "cell_type": "code",
   "execution_count": 64,
   "id": "dd4fa2e5",
   "metadata": {},
   "outputs": [
    {
     "name": "stdout",
     "output_type": "stream",
     "text": [
      "1\n",
      "3\n",
      "5\n",
      "7\n",
      "9\n",
      "print this else block\n"
     ]
    }
   ],
   "source": [
    "test5()"
   ]
  },
  {
   "cell_type": "code",
   "execution_count": 65,
   "id": "69f21a0d",
   "metadata": {},
   "outputs": [
    {
     "name": "stdout",
     "output_type": "stream",
     "text": [
      "1\n",
      "3\n",
      "5\n",
      "7\n",
      "9\n",
      "print this else block\n"
     ]
    }
   ],
   "source": [
    "test5()"
   ]
  },
  {
   "cell_type": "code",
   "execution_count": 66,
   "id": "772ad658",
   "metadata": {},
   "outputs": [],
   "source": [
    "def test5(a,b) :\n",
    "    while a<=b :\n",
    "        print(a)\n",
    "        a=a+2\n",
    "    else:\n",
    "        print(\"print this else block\")"
   ]
  },
  {
   "cell_type": "code",
   "execution_count": 67,
   "id": "afe70665",
   "metadata": {},
   "outputs": [
    {
     "name": "stdout",
     "output_type": "stream",
     "text": [
      "1\n",
      "3\n",
      "5\n",
      "7\n",
      "9\n",
      "print this else block\n"
     ]
    }
   ],
   "source": [
    "test5(1,10)"
   ]
  },
  {
   "cell_type": "code",
   "execution_count": 68,
   "id": "b8c2fb9b",
   "metadata": {},
   "outputs": [
    {
     "name": "stdout",
     "output_type": "stream",
     "text": [
      "5\n",
      "7\n",
      "9\n",
      "11\n",
      "13\n",
      "15\n",
      "17\n",
      "19\n",
      "21\n",
      "23\n",
      "25\n",
      "27\n",
      "29\n",
      "31\n",
      "33\n",
      "35\n",
      "37\n",
      "39\n",
      "41\n",
      "43\n",
      "45\n",
      "47\n",
      "49\n",
      "51\n",
      "53\n",
      "55\n",
      "print this else block\n"
     ]
    }
   ],
   "source": [
    "test5(5,56)"
   ]
  },
  {
   "cell_type": "code",
   "execution_count": 69,
   "id": "3bda3826",
   "metadata": {},
   "outputs": [
    {
     "name": "stdout",
     "output_type": "stream",
     "text": [
      "print this else block\n"
     ]
    }
   ],
   "source": [
    "test5(30,2)"
   ]
  },
  {
   "cell_type": "code",
   "execution_count": 70,
   "id": "a1b9a304",
   "metadata": {},
   "outputs": [
    {
     "name": "stdout",
     "output_type": "stream",
     "text": [
      "print this else block\n"
     ]
    },
    {
     "data": {
      "text/plain": [
       "NoneType"
      ]
     },
     "execution_count": 70,
     "metadata": {},
     "output_type": "execute_result"
    }
   ],
   "source": [
    "type(test5(30,2))"
   ]
  },
  {
   "cell_type": "code",
   "execution_count": 71,
   "id": "e415bf25",
   "metadata": {},
   "outputs": [],
   "source": [
    "def test5(a,b) :\n",
    "    while a<=b :\n",
    "        print(a)\n",
    "        a=a+2\n",
    "    else:\n",
    "        return \"print this else block\""
   ]
  },
  {
   "cell_type": "code",
   "execution_count": 72,
   "id": "7cd1053d",
   "metadata": {},
   "outputs": [
    {
     "name": "stdout",
     "output_type": "stream",
     "text": [
      "1\n",
      "3\n",
      "5\n",
      "7\n",
      "9\n"
     ]
    },
    {
     "data": {
      "text/plain": [
       "'print this else block'"
      ]
     },
     "execution_count": 72,
     "metadata": {},
     "output_type": "execute_result"
    }
   ],
   "source": [
    "test5(1,10)"
   ]
  },
  {
   "cell_type": "code",
   "execution_count": 73,
   "id": "e02434cb",
   "metadata": {},
   "outputs": [],
   "source": [
    "def test5(a,b) :\n",
    "    while a<=b :\n",
    "        #print(a)\n",
    "        return a\n",
    "        a=a+2\n",
    "    else:\n",
    "        return \"print this else block\""
   ]
  },
  {
   "cell_type": "code",
   "execution_count": 74,
   "id": "86814158",
   "metadata": {},
   "outputs": [
    {
     "data": {
      "text/plain": [
       "1"
      ]
     },
     "execution_count": 74,
     "metadata": {},
     "output_type": "execute_result"
    }
   ],
   "source": [
    "test5(1,10)"
   ]
  },
  {
   "cell_type": "code",
   "execution_count": 75,
   "id": "e072a9ca",
   "metadata": {},
   "outputs": [],
   "source": [
    "def test5(a,b) :\n",
    "    l = []\n",
    "    while a<=b :\n",
    "       # print(a)\n",
    "        l.append(a)\n",
    "        a=a+2\n",
    "    else:\n",
    "        print(\"print this else block\")\n",
    "    return l"
   ]
  },
  {
   "cell_type": "code",
   "execution_count": 76,
   "id": "d1796f8d",
   "metadata": {},
   "outputs": [
    {
     "name": "stdout",
     "output_type": "stream",
     "text": [
      "print this else block\n"
     ]
    },
    {
     "data": {
      "text/plain": [
       "[1, 3, 5, 7, 9]"
      ]
     },
     "execution_count": 76,
     "metadata": {},
     "output_type": "execute_result"
    }
   ],
   "source": [
    "test5(1,10)"
   ]
  },
  {
   "cell_type": "code",
   "execution_count": 77,
   "id": "797323df",
   "metadata": {},
   "outputs": [
    {
     "name": "stdout",
     "output_type": "stream",
     "text": [
      "print this else block\n"
     ]
    },
    {
     "data": {
      "text/plain": [
       "list"
      ]
     },
     "execution_count": 77,
     "metadata": {},
     "output_type": "execute_result"
    }
   ],
   "source": [
    "type(test5(30,2))"
   ]
  },
  {
   "cell_type": "code",
   "execution_count": 78,
   "id": "ad90de8e",
   "metadata": {},
   "outputs": [],
   "source": [
    "l = [4,5,6,67,7,8,8,9,9,9,[3,4,5,6,7,7], \"sudh\"]"
   ]
  },
  {
   "cell_type": "code",
   "execution_count": 79,
   "id": "33423fa1",
   "metadata": {},
   "outputs": [],
   "source": [
    "l1 = []\n",
    "for i in l :\n",
    "    if type(i) == int:\n",
    "        l1.append(i)"
   ]
  },
  {
   "cell_type": "code",
   "execution_count": 80,
   "id": "921c182e",
   "metadata": {},
   "outputs": [
    {
     "data": {
      "text/plain": [
       "[4, 5, 6, 67, 7, 8, 8, 9, 9, 9]"
      ]
     },
     "execution_count": 80,
     "metadata": {},
     "output_type": "execute_result"
    }
   ],
   "source": [
    "l1"
   ]
  },
  {
   "cell_type": "code",
   "execution_count": 81,
   "id": "70af9d3c",
   "metadata": {},
   "outputs": [],
   "source": [
    "def test7() :\n",
    "    l1 = []\n",
    "    for i in l :\n",
    "        if type(i) == int:\n",
    "            l1.append(i)\n",
    "    return l1\n",
    "    "
   ]
  },
  {
   "cell_type": "code",
   "execution_count": 82,
   "id": "7b56265b",
   "metadata": {},
   "outputs": [
    {
     "data": {
      "text/plain": [
       "[4, 5, 6, 67, 7, 8, 8, 9, 9, 9]"
      ]
     },
     "execution_count": 82,
     "metadata": {},
     "output_type": "execute_result"
    }
   ],
   "source": [
    "test7()"
   ]
  },
  {
   "cell_type": "code",
   "execution_count": 83,
   "id": "22b2ea86",
   "metadata": {},
   "outputs": [],
   "source": [
    "l3 = [345,45,5,5,6,5,\"sudh\",(4,6,6)]"
   ]
  },
  {
   "cell_type": "code",
   "execution_count": 84,
   "id": "84c5c023",
   "metadata": {},
   "outputs": [],
   "source": [
    "def test7(l) :\n",
    "    l1 = []\n",
    "    for i in l :\n",
    "        if type(i) == int:\n",
    "            l1.append(i)\n",
    "    return l1"
   ]
  },
  {
   "cell_type": "code",
   "execution_count": 85,
   "id": "72bb6c15",
   "metadata": {},
   "outputs": [
    {
     "data": {
      "text/plain": [
       "[345, 45, 5, 5, 6, 5]"
      ]
     },
     "execution_count": 85,
     "metadata": {},
     "output_type": "execute_result"
    }
   ],
   "source": [
    "test7(l3)"
   ]
  },
  {
   "cell_type": "code",
   "execution_count": 86,
   "id": "403a6484",
   "metadata": {},
   "outputs": [
    {
     "name": "stdout",
     "output_type": "stream",
     "text": [
      "index of 7 is -2\n",
      "index of 6 is -4\n"
     ]
    }
   ],
   "source": [
    "t = (3,4,5,6,67,7,87)\n",
    "a =-1\n",
    "while a>=-len(t):\n",
    "    if t[a]==6 or t[a]==7:\n",
    "        print(\"index of\",t[a],'is',a)\n",
    "    a = a-1"
   ]
  },
  {
   "cell_type": "code",
   "execution_count": 87,
   "id": "d3c625c9",
   "metadata": {},
   "outputs": [],
   "source": [
    "def test8(t):\n",
    "    a=-1\n",
    "    while a>=-len(t):\n",
    "        if t[a]==6 or t[a]==7:\n",
    "            print(\"index of\",t[a],'is',a)\n",
    "        a = a-1\n",
    "    "
   ]
  },
  {
   "cell_type": "code",
   "execution_count": 88,
   "id": "26739e8e",
   "metadata": {},
   "outputs": [
    {
     "name": "stdout",
     "output_type": "stream",
     "text": [
      "index of 7 is -2\n",
      "index of 6 is -4\n"
     ]
    }
   ],
   "source": [
    "test8(t)"
   ]
  },
  {
   "cell_type": "code",
   "execution_count": 89,
   "id": "3d0e5002",
   "metadata": {},
   "outputs": [
    {
     "name": "stdout",
     "output_type": "stream",
     "text": [
      "index of 7 is -2\n",
      "index of 7 is -3\n",
      "index of 7 is -4\n",
      "index of 6 is -5\n",
      "index of 6 is -6\n"
     ]
    }
   ],
   "source": [
    "test8((3,4,4,6,6,7,7,7,88))"
   ]
  },
  {
   "cell_type": "code",
   "execution_count": 90,
   "id": "38f0f83d",
   "metadata": {},
   "outputs": [
    {
     "ename": "SyntaxError",
     "evalue": "invalid syntax (2700916563.py, line 1)",
     "output_type": "error",
     "traceback": [
      "\u001b[1;36m  Input \u001b[1;32mIn [90]\u001b[1;36m\u001b[0m\n\u001b[1;33m    Your First Challenge :\u001b[0m\n\u001b[1;37m         ^\u001b[0m\n\u001b[1;31mSyntaxError\u001b[0m\u001b[1;31m:\u001b[0m invalid syntax\n"
     ]
    }
   ],
   "source": [
    "Your First Challenge : \n",
    "    \n",
    "you have to submit it by next saturday 4th june 2022  : \n",
    "    shivan@ineuron.ai ,sudhanshu@ineuron.ai\n",
    "    \n",
    "q1 : Try to print this by using while loop \n",
    "* \n",
    "* * \n",
    "* * * \n",
    "* * * * \n",
    "* * * * * \n",
    "* * * * * * \n",
    "* * * * * * * \n",
    "* * * * * * * * \n",
    "* * * * * * * * * \n",
    "\n",
    "q2 : try to print below by using while loop : \n",
    "        \n",
    "A\n",
    "B H \n",
    "C I N\n",
    "D J o S\n",
    "E K p T W\n",
    "F L Q U X z\n",
    "G M R V Y \n",
    "\n",
    "q3 : Try to print all the number divisible by 3 in between a range of 40 - 400\n",
    "    \n",
    "q4 : Try to filter out all the vowels form below text by using while loop : \n",
    " \"\"\"Python is a high-level, interpreted, general-purpose programming language. Its design philosophy emphasizes code readability with the use of significant indentation.[32]\n",
    "\n",
    "Python is dynamically-typed and garbage-collected. It supports multiple programming paradigms, including structured (particularly procedural), object-oriented and functional programming. It is often described as a \"batteries included\" language due to its comprehensive standard library.[33][34]\n",
    "\n",
    "Guido van Rossum began working on Python in the late 1980s as a successor to the ABC programming language and first released it in 1991 as Python 0.9.0.[35] Python 2.0 was released in 2000 and introduced new features such as list comprehensions, cycle-detecting garbage collection, reference counting, and Unicode support. Python 3.0, released in 2008, was a major revision that is not completely backward-compatible with earlier versions. Python 2 was discontinued with version 2.7.18 in 2020.[36]\n",
    "\n",
    "Python consistently ranks as one of the most popular programming languagesc\"\"\" \n",
    "\n",
    "\n",
    "q5 : Try to generate all the even number between 1- 1000\n",
    "\n",
    "q6 : Define a function for all the above problem statememnt  . \n",
    "    \n",
    "q7 : write a code to get a time of your system \n",
    "\n",
    "q8 : Write a code to fetch date form your system \n",
    "\n",
    "q9 : Write a code to send a mail to your friend \n",
    "\n",
    "q10 : write a code to trigger alarm for you at scheduled time \n",
    "\n",
    "q11 : write a code to check ip address of your system \n",
    "\n",
    "q12 : Write a code to check a perticular installation in your system\n",
    "\n",
    "q13 : Write a code to convert any text in to voice \n",
    "\n",
    "q14 : you have to write a fun which will take string and return a len of \n",
    "it without using a inbuilt fun len\n",
    "\n",
    "q15 :write a fun which will be able to print an index of all premitive element which you will pass \n",
    "\n",
    "q16 : Write a fun which will take input as a dict and give me out as a list of all the values \n",
    "even in case of 2 level nesting it should work . \n",
    "\n",
    "q17 : write a function whihc will take multiple list as a input and give me concatnation of all the element as \n",
    "and output\n",
    "\n",
    "q18 : Write a function which will whould return list of all the file name from a directory . \n",
    "\n",
    "q19 : write a function whihc will be able to read a image file and show it to you .\n",
    "    \n",
    "q20 : write a function by which you will be able to append two PDF files . \n",
    "    \n",
    "q21 : write a function which can help you to filter only word file from a directory . \n",
    "    \n",
    "q22 : write a function which can read video file and play for you . \n",
    "    \n",
    "q23 : write a function which will be able to shutdonw your system . \n",
    "\n",
    "q24 : Write a function which will whould return list of all the file name from a directory . \n",
    "\n",
    "q25 : write a function whihc will be able to access your mail . \n",
    "        "
   ]
  },
  {
   "cell_type": "code",
   "execution_count": 91,
   "id": "332c9ef8",
   "metadata": {},
   "outputs": [],
   "source": [
    "l = [[1,2,3,4], (2,3,4,5,6), (3,4,5,6,7), set([23,4,5,45,4,4,5,45,45,4,5]), {'k1' : \"sudh\", \"k2\" : \"ineuron\", \"k3\" : \"kumar\", 3:6, 7:8}, [\"ineuron\", \"data science\"]]\n"
   ]
  },
  {
   "cell_type": "code",
   "execution_count": 92,
   "id": "4681d7bb",
   "metadata": {},
   "outputs": [
    {
     "name": "stdout",
     "output_type": "stream",
     "text": [
      "Enter the no of rows:9\n",
      "* \n",
      "* * \n",
      "* * * \n",
      "* * * * \n",
      "* * * * * \n",
      "* * * * * * \n",
      "* * * * * * * \n",
      "* * * * * * * * \n",
      "* * * * * * * * * \n"
     ]
    }
   ],
   "source": [
    "#Q1 Print the pattern using while loop\n",
    "n= int(input(\"Enter the no of rows:\"))\n",
    "i=1\n",
    "while i <= n :\n",
    "    j = 1\n",
    "    while j <= i:\n",
    "        print(\"*\", end = \" \")\n",
    "        j += 1\n",
    "    print()\n",
    "    i += 1"
   ]
  },
  {
   "cell_type": "code",
   "execution_count": 93,
   "id": "97fbde8c",
   "metadata": {},
   "outputs": [
    {
     "name": "stdout",
     "output_type": "stream",
     "text": [
      "Please Enter the total Number of Rows  : 7\n",
      "\n",
      "A  \n",
      "B  C  \n",
      "D  E  F  \n",
      "G  H  I  J  \n",
      "K  L  M  N  O  \n",
      "P  Q  R  S  T  U  \n",
      "V  W  X  Y  Z  [  \\  \n"
     ]
    }
   ],
   "source": [
    "#Q2 print the pattern using while loop\n",
    "rows = int(input(\"Please Enter the total Number of Rows  : \"))\n",
    "number = 0\n",
    "i = 0\n",
    "while(i <= rows):\n",
    "    j = 1\n",
    "    while(j <= i):        \n",
    "        print(chr(number+65), end = '  ')\n",
    "        number = number + 1\n",
    "        j = j + 1\n",
    "    i = i + 1\n",
    "    print()"
   ]
  },
  {
   "cell_type": "code",
   "execution_count": 94,
   "id": "ae6b69db",
   "metadata": {},
   "outputs": [
    {
     "name": "stdout",
     "output_type": "stream",
     "text": [
      "42\n",
      "45\n",
      "48\n",
      "51\n",
      "54\n",
      "57\n",
      "60\n",
      "63\n",
      "66\n",
      "69\n",
      "72\n",
      "75\n",
      "78\n",
      "81\n",
      "84\n",
      "87\n",
      "90\n",
      "93\n",
      "96\n",
      "99\n",
      "102\n",
      "105\n",
      "108\n",
      "111\n",
      "114\n",
      "117\n",
      "120\n",
      "123\n",
      "126\n",
      "129\n",
      "132\n",
      "135\n",
      "138\n",
      "141\n",
      "144\n",
      "147\n",
      "150\n",
      "153\n",
      "156\n",
      "159\n",
      "162\n",
      "165\n",
      "168\n",
      "171\n",
      "174\n",
      "177\n",
      "180\n",
      "183\n",
      "186\n",
      "189\n",
      "192\n",
      "195\n",
      "198\n",
      "201\n",
      "204\n",
      "207\n",
      "210\n",
      "213\n",
      "216\n",
      "219\n",
      "222\n",
      "225\n",
      "228\n",
      "231\n",
      "234\n",
      "237\n",
      "240\n",
      "243\n",
      "246\n",
      "249\n",
      "252\n",
      "255\n",
      "258\n",
      "261\n",
      "264\n",
      "267\n",
      "270\n",
      "273\n",
      "276\n",
      "279\n",
      "282\n",
      "285\n",
      "288\n",
      "291\n",
      "294\n",
      "297\n",
      "300\n",
      "303\n",
      "306\n",
      "309\n",
      "312\n",
      "315\n",
      "318\n",
      "321\n",
      "324\n",
      "327\n",
      "330\n",
      "333\n",
      "336\n",
      "339\n",
      "342\n",
      "345\n",
      "348\n",
      "351\n",
      "354\n",
      "357\n",
      "360\n",
      "363\n",
      "366\n",
      "369\n",
      "372\n",
      "375\n",
      "378\n",
      "381\n",
      "384\n",
      "387\n",
      "390\n",
      "393\n",
      "396\n",
      "399\n"
     ]
    }
   ],
   "source": [
    "#Q3Try to print all the number divisible by 3 in between a range of 40 - 400\n",
    "a=40\n",
    "while a<=400:\n",
    "    if a%3 == 0:\n",
    "        print(a)\n",
    "    a=a+1\n",
    "    "
   ]
  },
  {
   "cell_type": "code",
   "execution_count": 98,
   "id": "3c80c5d3",
   "metadata": {},
   "outputs": [
    {
     "name": "stdout",
     "output_type": "stream",
     "text": [
      "Enter a string:\"\"\"Python is a high-level, interpreted, general-purpose programming language. Its design philosophy emphasizes code readability with the use of significant indentation.[32]  Python is dynamically-typed and garbage-collected. It supports multiple programming paradigms, including structured (particularly procedural), object-oriented and functional programming. It is often described as a \"batteries included\" language due to its comprehensive standard library.[33][34]  Guido van Rossum began working on Python in the late 1980s as a successor to the ABC programming language and first released it in 1991 as Python 0.9.0.[35] Python 2.0 was released in 2000 and introduced new features such as list comprehensions, cycle-detecting garbage collection, reference counting, and Unicode support. Python 3.0, released in 2008, was a major revision that is not completely backward-compatible with earlier versions. Python 2 was discontinued with version 2.7.18 in 2020.[36]  Python consistently ranks as one of the most popular programming languagesc\"\"\"\n"
     ]
    },
    {
     "ename": "KeyboardInterrupt",
     "evalue": "",
     "output_type": "error",
     "traceback": [
      "\u001b[1;31m---------------------------------------------------------------------------\u001b[0m",
      "\u001b[1;31mKeyboardInterrupt\u001b[0m                         Traceback (most recent call last)",
      "Input \u001b[1;32mIn [98]\u001b[0m, in \u001b[0;36m<cell line: 8>\u001b[1;34m()\u001b[0m\n\u001b[0;32m      7\u001b[0m i\u001b[38;5;241m=\u001b[39m\u001b[38;5;241m0\u001b[39m\n\u001b[0;32m      8\u001b[0m \u001b[38;5;28;01mwhile\u001b[39;00m i\u001b[38;5;241m<\u001b[39m\u001b[38;5;28mlen\u001b[39m(n):\n\u001b[1;32m----> 9\u001b[0m     \u001b[38;5;28;01mif\u001b[39;00m (i \u001b[38;5;241m==\u001b[39m \u001b[38;5;124m'\u001b[39m\u001b[38;5;124ma\u001b[39m\u001b[38;5;124m'\u001b[39m \u001b[38;5;129;01mor\u001b[39;00m i \u001b[38;5;241m==\u001b[39m \u001b[38;5;124m'\u001b[39m\u001b[38;5;124me\u001b[39m\u001b[38;5;124m'\u001b[39m \u001b[38;5;129;01mor\u001b[39;00m i \u001b[38;5;241m==\u001b[39m \u001b[38;5;124m'\u001b[39m\u001b[38;5;124mi\u001b[39m\u001b[38;5;124m'\u001b[39m \u001b[38;5;129;01mor\u001b[39;00m i \u001b[38;5;241m==\u001b[39m \u001b[38;5;124m'\u001b[39m\u001b[38;5;124mo\u001b[39m\u001b[38;5;124m'\u001b[39m \u001b[38;5;129;01mor\u001b[39;00m \u001b[43mi\u001b[49m \u001b[38;5;241m==\u001b[39m \u001b[38;5;124m'\u001b[39m\u001b[38;5;124mu\u001b[39m\u001b[38;5;124m'\u001b[39m \u001b[38;5;129;01mor\u001b[39;00m i \u001b[38;5;241m==\u001b[39m \u001b[38;5;124m'\u001b[39m\u001b[38;5;124mA\u001b[39m\u001b[38;5;124m'\u001b[39m \u001b[38;5;129;01mor\u001b[39;00m i \u001b[38;5;241m==\u001b[39m \u001b[38;5;124m'\u001b[39m\u001b[38;5;124mE\u001b[39m\u001b[38;5;124m'\u001b[39m \u001b[38;5;129;01mor\u001b[39;00m i \u001b[38;5;241m==\u001b[39m \u001b[38;5;124m'\u001b[39m\u001b[38;5;124mI\u001b[39m\u001b[38;5;124m'\u001b[39m \u001b[38;5;129;01mor\u001b[39;00m i \u001b[38;5;241m==\u001b[39m \u001b[38;5;124m'\u001b[39m\u001b[38;5;124mO\u001b[39m\u001b[38;5;124m'\u001b[39m \u001b[38;5;129;01mor\u001b[39;00m i \u001b[38;5;241m==\u001b[39m \u001b[38;5;124m'\u001b[39m\u001b[38;5;124mU\u001b[39m\u001b[38;5;124m'\u001b[39m):\n\u001b[0;32m     10\u001b[0m         vowel \u001b[38;5;241m+\u001b[39m\u001b[38;5;241m=\u001b[39m \u001b[38;5;241m1\u001b[39m\n\u001b[0;32m     11\u001b[0m         l\u001b[38;5;241m.\u001b[39mappend(i)\n",
      "\u001b[1;31mKeyboardInterrupt\u001b[0m: "
     ]
    }
   ],
   "source": [
    "#Q4 : Try to filter out all the vowels form below text by using while loop : \n",
    "# \"\"\"Python is a high-level, interpreted, general-purpose programming language. Its design philosophy emphasizes code readability with the use of significant indentation.[32]\n",
    "\n",
    "n= input(\"Enter a string:\")\n",
    "vowel=0\n",
    "l=[]\n",
    "i=0\n",
    "while i<len(n):\n",
    "    if (i == 'a' or i == 'e' or i == 'i' or i == 'o' or i == 'u' or i == 'A' or i == 'E' or i == 'I' or i == 'O' or i == 'U'):\n",
    "        vowel += 1\n",
    "        l.append(i)\n",
    "        i+=1\n",
    "print(l)"
   ]
  },
  {
   "cell_type": "code",
   "execution_count": 99,
   "id": "6894dc11",
   "metadata": {},
   "outputs": [
    {
     "name": "stdout",
     "output_type": "stream",
     "text": [
      "0\n",
      "2\n",
      "4\n",
      "6\n",
      "8\n",
      "10\n",
      "12\n",
      "14\n",
      "16\n",
      "18\n",
      "20\n",
      "22\n",
      "24\n",
      "26\n",
      "28\n",
      "30\n",
      "32\n",
      "34\n",
      "36\n",
      "38\n",
      "40\n",
      "42\n",
      "44\n",
      "46\n",
      "48\n",
      "50\n",
      "52\n",
      "54\n",
      "56\n",
      "58\n",
      "60\n",
      "62\n",
      "64\n",
      "66\n",
      "68\n",
      "70\n",
      "72\n",
      "74\n",
      "76\n",
      "78\n",
      "80\n",
      "82\n",
      "84\n",
      "86\n",
      "88\n",
      "90\n",
      "92\n",
      "94\n",
      "96\n",
      "98\n",
      "100\n",
      "102\n",
      "104\n",
      "106\n",
      "108\n",
      "110\n",
      "112\n",
      "114\n",
      "116\n",
      "118\n",
      "120\n",
      "122\n",
      "124\n",
      "126\n",
      "128\n",
      "130\n",
      "132\n",
      "134\n",
      "136\n",
      "138\n",
      "140\n",
      "142\n",
      "144\n",
      "146\n",
      "148\n",
      "150\n",
      "152\n",
      "154\n",
      "156\n",
      "158\n",
      "160\n",
      "162\n",
      "164\n",
      "166\n",
      "168\n",
      "170\n",
      "172\n",
      "174\n",
      "176\n",
      "178\n",
      "180\n",
      "182\n",
      "184\n",
      "186\n",
      "188\n",
      "190\n",
      "192\n",
      "194\n",
      "196\n",
      "198\n",
      "200\n",
      "202\n",
      "204\n",
      "206\n",
      "208\n",
      "210\n",
      "212\n",
      "214\n",
      "216\n",
      "218\n",
      "220\n",
      "222\n",
      "224\n",
      "226\n",
      "228\n",
      "230\n",
      "232\n",
      "234\n",
      "236\n",
      "238\n",
      "240\n",
      "242\n",
      "244\n",
      "246\n",
      "248\n",
      "250\n",
      "252\n",
      "254\n",
      "256\n",
      "258\n",
      "260\n",
      "262\n",
      "264\n",
      "266\n",
      "268\n",
      "270\n",
      "272\n",
      "274\n",
      "276\n",
      "278\n",
      "280\n",
      "282\n",
      "284\n",
      "286\n",
      "288\n",
      "290\n",
      "292\n",
      "294\n",
      "296\n",
      "298\n",
      "300\n",
      "302\n",
      "304\n",
      "306\n",
      "308\n",
      "310\n",
      "312\n",
      "314\n",
      "316\n",
      "318\n",
      "320\n",
      "322\n",
      "324\n",
      "326\n",
      "328\n",
      "330\n",
      "332\n",
      "334\n",
      "336\n",
      "338\n",
      "340\n",
      "342\n",
      "344\n",
      "346\n",
      "348\n",
      "350\n",
      "352\n",
      "354\n",
      "356\n",
      "358\n",
      "360\n",
      "362\n",
      "364\n",
      "366\n",
      "368\n",
      "370\n",
      "372\n",
      "374\n",
      "376\n",
      "378\n",
      "380\n",
      "382\n",
      "384\n",
      "386\n",
      "388\n",
      "390\n",
      "392\n",
      "394\n",
      "396\n",
      "398\n",
      "400\n",
      "402\n",
      "404\n",
      "406\n",
      "408\n",
      "410\n",
      "412\n",
      "414\n",
      "416\n",
      "418\n",
      "420\n",
      "422\n",
      "424\n",
      "426\n",
      "428\n",
      "430\n",
      "432\n",
      "434\n",
      "436\n",
      "438\n",
      "440\n",
      "442\n",
      "444\n",
      "446\n",
      "448\n",
      "450\n",
      "452\n",
      "454\n",
      "456\n",
      "458\n",
      "460\n",
      "462\n",
      "464\n",
      "466\n",
      "468\n",
      "470\n",
      "472\n",
      "474\n",
      "476\n",
      "478\n",
      "480\n",
      "482\n",
      "484\n",
      "486\n",
      "488\n",
      "490\n",
      "492\n",
      "494\n",
      "496\n",
      "498\n",
      "500\n",
      "502\n",
      "504\n",
      "506\n",
      "508\n",
      "510\n",
      "512\n",
      "514\n",
      "516\n",
      "518\n",
      "520\n",
      "522\n",
      "524\n",
      "526\n",
      "528\n",
      "530\n",
      "532\n",
      "534\n",
      "536\n",
      "538\n",
      "540\n",
      "542\n",
      "544\n",
      "546\n",
      "548\n",
      "550\n",
      "552\n",
      "554\n",
      "556\n",
      "558\n",
      "560\n",
      "562\n",
      "564\n",
      "566\n",
      "568\n",
      "570\n",
      "572\n",
      "574\n",
      "576\n",
      "578\n",
      "580\n",
      "582\n",
      "584\n",
      "586\n",
      "588\n",
      "590\n",
      "592\n",
      "594\n",
      "596\n",
      "598\n",
      "600\n",
      "602\n",
      "604\n",
      "606\n",
      "608\n",
      "610\n",
      "612\n",
      "614\n",
      "616\n",
      "618\n",
      "620\n",
      "622\n",
      "624\n",
      "626\n",
      "628\n",
      "630\n",
      "632\n",
      "634\n",
      "636\n",
      "638\n",
      "640\n",
      "642\n",
      "644\n",
      "646\n",
      "648\n",
      "650\n",
      "652\n",
      "654\n",
      "656\n",
      "658\n",
      "660\n",
      "662\n",
      "664\n",
      "666\n",
      "668\n",
      "670\n",
      "672\n",
      "674\n",
      "676\n",
      "678\n",
      "680\n",
      "682\n",
      "684\n",
      "686\n",
      "688\n",
      "690\n",
      "692\n",
      "694\n",
      "696\n",
      "698\n",
      "700\n",
      "702\n",
      "704\n",
      "706\n",
      "708\n",
      "710\n",
      "712\n",
      "714\n",
      "716\n",
      "718\n",
      "720\n",
      "722\n",
      "724\n",
      "726\n",
      "728\n",
      "730\n",
      "732\n",
      "734\n",
      "736\n",
      "738\n",
      "740\n",
      "742\n",
      "744\n",
      "746\n",
      "748\n",
      "750\n",
      "752\n",
      "754\n",
      "756\n",
      "758\n",
      "760\n",
      "762\n",
      "764\n",
      "766\n",
      "768\n",
      "770\n",
      "772\n",
      "774\n",
      "776\n",
      "778\n",
      "780\n",
      "782\n",
      "784\n",
      "786\n",
      "788\n",
      "790\n",
      "792\n",
      "794\n",
      "796\n",
      "798\n",
      "800\n",
      "802\n",
      "804\n",
      "806\n",
      "808\n",
      "810\n",
      "812\n",
      "814\n",
      "816\n",
      "818\n",
      "820\n",
      "822\n",
      "824\n",
      "826\n",
      "828\n",
      "830\n",
      "832\n",
      "834\n",
      "836\n",
      "838\n",
      "840\n",
      "842\n",
      "844\n",
      "846\n",
      "848\n",
      "850\n",
      "852\n",
      "854\n",
      "856\n",
      "858\n",
      "860\n",
      "862\n",
      "864\n",
      "866\n",
      "868\n",
      "870\n",
      "872\n",
      "874\n",
      "876\n",
      "878\n",
      "880\n",
      "882\n",
      "884\n",
      "886\n",
      "888\n",
      "890\n",
      "892\n",
      "894\n",
      "896\n",
      "898\n",
      "900\n",
      "902\n",
      "904\n",
      "906\n",
      "908\n",
      "910\n",
      "912\n",
      "914\n",
      "916\n",
      "918\n",
      "920\n",
      "922\n",
      "924\n",
      "926\n",
      "928\n",
      "930\n",
      "932\n",
      "934\n",
      "936\n",
      "938\n",
      "940\n",
      "942\n",
      "944\n",
      "946\n",
      "948\n",
      "950\n",
      "952\n",
      "954\n",
      "956\n",
      "958\n",
      "960\n",
      "962\n",
      "964\n",
      "966\n",
      "968\n",
      "970\n",
      "972\n",
      "974\n",
      "976\n",
      "978\n",
      "980\n",
      "982\n",
      "984\n",
      "986\n",
      "988\n",
      "990\n",
      "992\n",
      "994\n",
      "996\n",
      "998\n",
      "1000\n"
     ]
    }
   ],
   "source": [
    "#Q5Try to generate all the even number between 1- 1000\n",
    "i=0\n",
    "while i<= 1000:\n",
    "    if i%2==0:\n",
    "        print(i)\n",
    "    i+=1   "
   ]
  },
  {
   "cell_type": "code",
   "execution_count": 100,
   "id": "9022aae0",
   "metadata": {},
   "outputs": [
    {
     "name": "stdout",
     "output_type": "stream",
     "text": [
      "Enter the no of rows:9\n",
      "* \n",
      "* * \n",
      "* * * \n",
      "* * * * \n",
      "* * * * * \n",
      "* * * * * * \n",
      "* * * * * * * \n",
      "* * * * * * * * \n",
      "* * * * * * * * * \n"
     ]
    }
   ],
   "source": [
    "#Q6Define a function for all the above problem statememnt\n",
    "\n",
    "#Q6.1 Print the pattern using while loop\n",
    "def test(n):\n",
    "    n= int(input(\"Enter the no of rows:\"))\n",
    "    i=1\n",
    "    while i <= n :\n",
    "        j = 1\n",
    "        while j <= i:\n",
    "            print(\"*\", end = \" \")\n",
    "            j += 1\n",
    "        print()\n",
    "        i += 1\n",
    "        \n",
    "test(n)"
   ]
  },
  {
   "cell_type": "code",
   "execution_count": 101,
   "id": "df0434d6",
   "metadata": {},
   "outputs": [
    {
     "name": "stdout",
     "output_type": "stream",
     "text": [
      "Please Enter the total Number of Rows  : 7\n",
      "\n",
      "A  \n",
      "B  C  \n",
      "D  E  F  \n",
      "G  H  I  J  \n",
      "K  L  M  N  O  \n",
      "P  Q  R  S  T  U  \n",
      "V  W  X  Y  Z  [  \\  \n"
     ]
    }
   ],
   "source": [
    "#Q6.2print the pattern using while loop\n",
    "def test1(rows):\n",
    "    rows = int(input(\"Please Enter the total Number of Rows  : \"))\n",
    "    number = 0\n",
    "    i = 0\n",
    "    while(i <= rows):\n",
    "        j = 1\n",
    "        while(j <= i):        \n",
    "            print(chr(number+65), end = '  ')\n",
    "            number = number + 1\n",
    "            j = j + 1\n",
    "        i = i + 1\n",
    "        print()\n",
    "\n",
    "test1(rows)"
   ]
  },
  {
   "cell_type": "code",
   "execution_count": 102,
   "id": "770eb547",
   "metadata": {},
   "outputs": [
    {
     "name": "stdout",
     "output_type": "stream",
     "text": [
      "42\n",
      "45\n",
      "48\n",
      "51\n",
      "54\n",
      "57\n",
      "60\n",
      "63\n",
      "66\n",
      "69\n",
      "72\n",
      "75\n",
      "78\n",
      "81\n",
      "84\n",
      "87\n",
      "90\n",
      "93\n",
      "96\n",
      "99\n",
      "102\n",
      "105\n",
      "108\n",
      "111\n",
      "114\n",
      "117\n",
      "120\n",
      "123\n",
      "126\n",
      "129\n",
      "132\n",
      "135\n",
      "138\n",
      "141\n",
      "144\n",
      "147\n",
      "150\n",
      "153\n",
      "156\n",
      "159\n",
      "162\n",
      "165\n",
      "168\n",
      "171\n",
      "174\n",
      "177\n",
      "180\n",
      "183\n",
      "186\n",
      "189\n",
      "192\n",
      "195\n",
      "198\n",
      "201\n",
      "204\n",
      "207\n",
      "210\n",
      "213\n",
      "216\n",
      "219\n",
      "222\n",
      "225\n",
      "228\n",
      "231\n",
      "234\n",
      "237\n",
      "240\n",
      "243\n",
      "246\n",
      "249\n",
      "252\n",
      "255\n",
      "258\n",
      "261\n",
      "264\n",
      "267\n",
      "270\n",
      "273\n",
      "276\n",
      "279\n",
      "282\n",
      "285\n",
      "288\n",
      "291\n",
      "294\n",
      "297\n",
      "300\n",
      "303\n",
      "306\n",
      "309\n",
      "312\n",
      "315\n",
      "318\n",
      "321\n",
      "324\n",
      "327\n",
      "330\n",
      "333\n",
      "336\n",
      "339\n",
      "342\n",
      "345\n",
      "348\n",
      "351\n",
      "354\n",
      "357\n",
      "360\n",
      "363\n",
      "366\n",
      "369\n",
      "372\n",
      "375\n",
      "378\n",
      "381\n",
      "384\n",
      "387\n",
      "390\n",
      "393\n",
      "396\n",
      "399\n"
     ]
    }
   ],
   "source": [
    "#Q6.3Try to print all the number divisible by 3 in between a range of 40 - 400\n",
    "def test2(a):\n",
    "    a=40\n",
    "    while a<400:\n",
    "        if a%3 == 0:\n",
    "            print(a)\n",
    "        a=a+1\n",
    "a=40    \n",
    "test2(a) "
   ]
  },
  {
   "cell_type": "code",
   "execution_count": 103,
   "id": "eff2b3aa",
   "metadata": {},
   "outputs": [
    {
     "name": "stdout",
     "output_type": "stream",
     "text": [
      "Enter a string:This is Praveen\n"
     ]
    },
    {
     "ename": "KeyboardInterrupt",
     "evalue": "",
     "output_type": "error",
     "traceback": [
      "\u001b[1;31m---------------------------------------------------------------------------\u001b[0m",
      "\u001b[1;31mKeyboardInterrupt\u001b[0m                         Traceback (most recent call last)",
      "Input \u001b[1;32mIn [103]\u001b[0m, in \u001b[0;36m<cell line: 16>\u001b[1;34m()\u001b[0m\n\u001b[0;32m     13\u001b[0m     \u001b[38;5;28mprint\u001b[39m(l) \n\u001b[0;32m     15\u001b[0m n\u001b[38;5;241m=\u001b[39m\u001b[38;5;124m\"\u001b[39m\u001b[38;5;124mMyname is Praveen\u001b[39m\u001b[38;5;124m\"\u001b[39m\n\u001b[1;32m---> 16\u001b[0m \u001b[43mtest3\u001b[49m\u001b[43m(\u001b[49m\u001b[43mn\u001b[49m\u001b[43m)\u001b[49m\n",
      "Input \u001b[1;32mIn [103]\u001b[0m, in \u001b[0;36mtest3\u001b[1;34m(n)\u001b[0m\n\u001b[0;32m      6\u001b[0m l\u001b[38;5;241m=\u001b[39m[]\n\u001b[0;32m      7\u001b[0m i\u001b[38;5;241m=\u001b[39m\u001b[38;5;241m0\u001b[39m\n\u001b[1;32m----> 8\u001b[0m \u001b[38;5;28;01mwhile\u001b[39;00m i\u001b[38;5;241m<\u001b[39m\u001b[38;5;28;43mlen\u001b[39;49m\u001b[43m(\u001b[49m\u001b[43mn\u001b[49m\u001b[43m)\u001b[49m:\n\u001b[0;32m      9\u001b[0m      \u001b[38;5;28;01mif\u001b[39;00m (i \u001b[38;5;241m==\u001b[39m \u001b[38;5;124m'\u001b[39m\u001b[38;5;124ma\u001b[39m\u001b[38;5;124m'\u001b[39m \u001b[38;5;129;01mor\u001b[39;00m i \u001b[38;5;241m==\u001b[39m \u001b[38;5;124m'\u001b[39m\u001b[38;5;124me\u001b[39m\u001b[38;5;124m'\u001b[39m \u001b[38;5;129;01mor\u001b[39;00m i \u001b[38;5;241m==\u001b[39m \u001b[38;5;124m'\u001b[39m\u001b[38;5;124mi\u001b[39m\u001b[38;5;124m'\u001b[39m \u001b[38;5;129;01mor\u001b[39;00m i \u001b[38;5;241m==\u001b[39m \u001b[38;5;124m'\u001b[39m\u001b[38;5;124mo\u001b[39m\u001b[38;5;124m'\u001b[39m \u001b[38;5;129;01mor\u001b[39;00m i \u001b[38;5;241m==\u001b[39m \u001b[38;5;124m'\u001b[39m\u001b[38;5;124mu\u001b[39m\u001b[38;5;124m'\u001b[39m \u001b[38;5;129;01mor\u001b[39;00m i \u001b[38;5;241m==\u001b[39m \u001b[38;5;124m'\u001b[39m\u001b[38;5;124mA\u001b[39m\u001b[38;5;124m'\u001b[39m \u001b[38;5;129;01mor\u001b[39;00m i \u001b[38;5;241m==\u001b[39m \u001b[38;5;124m'\u001b[39m\u001b[38;5;124mE\u001b[39m\u001b[38;5;124m'\u001b[39m \u001b[38;5;129;01mor\u001b[39;00m i \u001b[38;5;241m==\u001b[39m \u001b[38;5;124m'\u001b[39m\u001b[38;5;124mI\u001b[39m\u001b[38;5;124m'\u001b[39m \u001b[38;5;129;01mor\u001b[39;00m i \u001b[38;5;241m==\u001b[39m \u001b[38;5;124m'\u001b[39m\u001b[38;5;124mO\u001b[39m\u001b[38;5;124m'\u001b[39m \u001b[38;5;129;01mor\u001b[39;00m i \u001b[38;5;241m==\u001b[39m \u001b[38;5;124m'\u001b[39m\u001b[38;5;124mU\u001b[39m\u001b[38;5;124m'\u001b[39m):\n\u001b[0;32m     10\u001b[0m         vowel \u001b[38;5;241m+\u001b[39m\u001b[38;5;241m=\u001b[39m \u001b[38;5;241m1\u001b[39m\n",
      "\u001b[1;31mKeyboardInterrupt\u001b[0m: "
     ]
    }
   ],
   "source": [
    "#Q6.4 : Try to filter out all the vowels form below text by using while loop : \n",
    "# \"\"\"Python is a high-level, interpreted, general-purpose programming language. Its design philosophy emphasizes code readability with the use of significant indentation.[32]\n",
    "def test3(n):\n",
    "    n= input(\"Enter a string:\")\n",
    "    vowel=0\n",
    "    l=[]\n",
    "    i=0\n",
    "    while i<len(n):\n",
    "         if (i == 'a' or i == 'e' or i == 'i' or i == 'o' or i == 'u' or i == 'A' or i == 'E' or i == 'I' or i == 'O' or i == 'U'):\n",
    "            vowel += 1\n",
    "            l.append(i)\n",
    "            i+=1\n",
    "    print(l) \n",
    "    \n",
    "n=\"Myname is Praveen\"\n",
    "test3(n)"
   ]
  },
  {
   "cell_type": "code",
   "execution_count": 104,
   "id": "4fe6cfc0",
   "metadata": {},
   "outputs": [
    {
     "name": "stdout",
     "output_type": "stream",
     "text": [
      "Enter the no of rows:5\n",
      "* \n",
      "* * \n",
      "* * * \n",
      "* * * * \n",
      "* * * * * \n"
     ]
    }
   ],
   "source": [
    "#Q6.5Try to generate all the even number between 1- 1000\n",
    "def test4(i):\n",
    "    i=0\n",
    "    while i<= 1000:\n",
    "        if i%2==0:\n",
    "            print(i)\n",
    "        i+=1\n",
    "i=0\n",
    "test(i)"
   ]
  },
  {
   "cell_type": "code",
   "execution_count": 105,
   "id": "c3f62d1d",
   "metadata": {},
   "outputs": [
    {
     "name": "stdout",
     "output_type": "stream",
     "text": [
      "\n",
      "Sun Jul 24 09:17:16 2022\n",
      "\n"
     ]
    }
   ],
   "source": [
    "#Q7 : write a code to get a time of your system\n",
    "import time\n",
    "print()\n",
    "print(time.ctime())\n",
    "print()"
   ]
  },
  {
   "cell_type": "code",
   "execution_count": 106,
   "id": "cb44e7b0",
   "metadata": {},
   "outputs": [
    {
     "name": "stdout",
     "output_type": "stream",
     "text": [
      "2022-07-24 09:17:27.874758\n"
     ]
    }
   ],
   "source": [
    "#Q8 : Write a code to fetch date form your system\n",
    "import datetime\n",
    "print(datetime.datetime.now())"
   ]
  },
  {
   "cell_type": "code",
   "execution_count": 107,
   "id": "88f50462",
   "metadata": {},
   "outputs": [
    {
     "name": "stdout",
     "output_type": "stream",
     "text": [
      "Something went wrong.... (535, b'5.7.8 Username and Password not accepted. Learn more at\\n5.7.8  https://support.google.com/mail/?p=BadCredentials l16-20020a170902f69000b0016c500fb7bcsm6429068plg.140 - gsmtp')\n"
     ]
    }
   ],
   "source": [
    "#Q9 Write a code to send a mail to your friend\n",
    "import smtplib \n",
    "try: \n",
    "#Create your SMTP session \n",
    "    smtp = smtplib.SMTP('smtp.gmail.com', 587) \n",
    "\n",
    "#Use TLS to add security \n",
    "    smtp.starttls() \n",
    "\n",
    "#User Authentication \n",
    "    smtp.login(\"sender_email_id\",\"sender_email_id_password\")\n",
    "\n",
    "#Defining The Message \n",
    "    message = \"Message_you_need_to_send\" \n",
    "\n",
    "#Sending the Email\n",
    "    smtp.sendmail(\"sender_email_id\", \"receiyer_email_id\",message) \n",
    "\n",
    "#Terminating the session \n",
    "    smtp.quit() \n",
    "    print (\"Email sent successfully!\") \n",
    "\n",
    "except Exception as ex: \n",
    "    print(\"Something went wrong....\",ex)"
   ]
  },
  {
   "cell_type": "code",
   "execution_count": 108,
   "id": "9a73f575",
   "metadata": {},
   "outputs": [],
   "source": [
    "#write a code to trigger alarm for you at scheduled time \n",
    "def alarm(set_alarm_timer):\n",
    "    while True:\n",
    "        time.sleep(1)\n",
    "        current_time = datetime.datetime.now()\n",
    "        now = current_time.strftime(\"%H:%M:%S\")\n",
    "        date = current_time.strftime(\"%d/%m/%Y\")\n",
    "        print(\"The Set Date is:\",date)\n",
    "        print(now)\n",
    "        if now == set_alarm_timer:\n",
    "            print(\"Time to Wake up\")\n",
    "        winsound.PlaySound(\"sound.wav\",winsound.SND_ASYNC)\n",
    "        break\n",
    "def actual_time():\n",
    "    set_alarm_timer = f\"{hour.get()}:{min.get()}:{sec.get()}\"\n",
    "    alarm(set_alarm_timer)"
   ]
  },
  {
   "cell_type": "code",
   "execution_count": 109,
   "id": "816fde46",
   "metadata": {},
   "outputs": [
    {
     "name": "stdout",
     "output_type": "stream",
     "text": [
      "Your Computer Name is:DESKTOP-PI4OEGP\n",
      "Your Computer IP Address is:192.168.0.107\n"
     ]
    }
   ],
   "source": [
    "#Q11 write a code to check ip address of your system \n",
    "import socket   \n",
    "hostname = socket.gethostname()   \n",
    "IPAddr = socket.gethostbyname(hostname)   \n",
    "print(\"Your Computer Name is:\" + hostname)   \n",
    "print(\"Your Computer IP Address is:\" + IPAddr)"
   ]
  },
  {
   "cell_type": "code",
   "execution_count": 115,
   "id": "9b6b92a1",
   "metadata": {},
   "outputs": [
    {
     "name": "stdout",
     "output_type": "stream",
     "text": [
      "Defaulting to user installation because normal site-packages is not writeable\n",
      "Requirement already satisfied: winapps in c:\\users\\hi\\appdata\\roaming\\python\\python39\\site-packages (0.2.0)\n",
      "Requirement already satisfied: plumbum<2.0,>=1.6 in c:\\users\\hi\\appdata\\roaming\\python\\python39\\site-packages (from winapps) (1.7.2)\n",
      "Requirement already satisfied: pywin32 in c:\\programdata\\anaconda3\\lib\\site-packages (from plumbum<2.0,>=1.6->winapps) (302)\n"
     ]
    }
   ],
   "source": [
    "!pip install winapps"
   ]
  },
  {
   "cell_type": "code",
   "execution_count": 116,
   "id": "f230ad31",
   "metadata": {},
   "outputs": [
    {
     "ename": "ModuleNotFoundError",
     "evalue": "No module named 'winapps'",
     "output_type": "error",
     "traceback": [
      "\u001b[1;31m---------------------------------------------------------------------------\u001b[0m",
      "\u001b[1;31mModuleNotFoundError\u001b[0m                       Traceback (most recent call last)",
      "Input \u001b[1;32mIn [116]\u001b[0m, in \u001b[0;36m<cell line: 4>\u001b[1;34m()\u001b[0m\n\u001b[0;32m      1\u001b[0m \u001b[38;5;66;03m#Q12  Write a code to check a perticular installation in your system\u001b[39;00m\n\u001b[0;32m      2\u001b[0m \n\u001b[0;32m      3\u001b[0m \u001b[38;5;66;03m# import modules\u001b[39;00m\n\u001b[1;32m----> 4\u001b[0m \u001b[38;5;28;01mimport\u001b[39;00m \u001b[38;5;21;01mwinapps\u001b[39;00m\n\u001b[0;32m      6\u001b[0m \u001b[38;5;66;03m# get each application with list_installed()\u001b[39;00m\n\u001b[0;32m      7\u001b[0m \u001b[38;5;28;01mfor\u001b[39;00m item \u001b[38;5;129;01min\u001b[39;00m winapps\u001b[38;5;241m.\u001b[39mlist_installed():\n",
      "\u001b[1;31mModuleNotFoundError\u001b[0m: No module named 'winapps'"
     ]
    }
   ],
   "source": [
    "#Q12  Write a code to check a perticular installation in your system\n",
    "\n",
    "# import modules\n",
    "import winapps\n",
    " \n",
    "# get each application with list_installed()\n",
    "for item in winapps.list_installed():\n",
    "    print(item)"
   ]
  },
  {
   "cell_type": "code",
   "execution_count": 118,
   "id": "74e417b0",
   "metadata": {},
   "outputs": [
    {
     "name": "stdout",
     "output_type": "stream",
     "text": [
      "Defaulting to user installation because normal site-packages is not writeable\n",
      "Requirement already satisfied: gTTS in c:\\users\\hi\\appdata\\roaming\\python\\python39\\site-packages (2.2.4)\n",
      "Requirement already satisfied: requests in c:\\programdata\\anaconda3\\lib\\site-packages (from gTTS) (2.27.1)\n",
      "Requirement already satisfied: six in c:\\programdata\\anaconda3\\lib\\site-packages (from gTTS) (1.16.0)\n",
      "Requirement already satisfied: click in c:\\programdata\\anaconda3\\lib\\site-packages (from gTTS) (8.0.4)\n",
      "Requirement already satisfied: colorama in c:\\programdata\\anaconda3\\lib\\site-packages (from click->gTTS) (0.4.4)\n",
      "Requirement already satisfied: charset-normalizer~=2.0.0 in c:\\programdata\\anaconda3\\lib\\site-packages (from requests->gTTS) (2.0.4)\n",
      "Requirement already satisfied: urllib3<1.27,>=1.21.1 in c:\\programdata\\anaconda3\\lib\\site-packages (from requests->gTTS) (1.26.9)\n",
      "Requirement already satisfied: idna<4,>=2.5 in c:\\programdata\\anaconda3\\lib\\site-packages (from requests->gTTS) (3.3)\n",
      "Requirement already satisfied: certifi>=2017.4.17 in c:\\programdata\\anaconda3\\lib\\site-packages (from requests->gTTS) (2021.10.8)\n"
     ]
    }
   ],
   "source": [
    "#Q13 Write a code to convert any text in to voice\n",
    "!pip install gTTS"
   ]
  },
  {
   "cell_type": "code",
   "execution_count": 119,
   "id": "70b467af",
   "metadata": {},
   "outputs": [
    {
     "ename": "ModuleNotFoundError",
     "evalue": "No module named 'gtts'",
     "output_type": "error",
     "traceback": [
      "\u001b[1;31m---------------------------------------------------------------------------\u001b[0m",
      "\u001b[1;31mModuleNotFoundError\u001b[0m                       Traceback (most recent call last)",
      "Input \u001b[1;32mIn [119]\u001b[0m, in \u001b[0;36m<cell line: 1>\u001b[1;34m()\u001b[0m\n\u001b[1;32m----> 1\u001b[0m \u001b[38;5;28;01mfrom\u001b[39;00m \u001b[38;5;21;01mgtts\u001b[39;00m \u001b[38;5;28;01mimport\u001b[39;00m gTTS\n\u001b[0;32m      2\u001b[0m \u001b[38;5;28;01mimport\u001b[39;00m \u001b[38;5;21;01mos\u001b[39;00m\n\u001b[0;32m      4\u001b[0m \u001b[38;5;66;03m# The text that you want to convert to audio\u001b[39;00m\n",
      "\u001b[1;31mModuleNotFoundError\u001b[0m: No module named 'gtts'"
     ]
    }
   ],
   "source": [
    "from gtts import gTTS\n",
    "import os\n",
    "  \n",
    "# The text that you want to convert to audio\n",
    "mytext = 'Welcome to geeksforgeeks!'\n",
    "  \n",
    "# Language in which you want to convert\n",
    "language = 'en'\n",
    "  \n",
    "# Passing the text and language to the engine, \n",
    "# here we have marked slow=False. Which tells \n",
    "# the module that the converted audio should \n",
    "# have a high speed\n",
    "myobj = gTTS(text=mytext, lang=language, slow=False)\n",
    "  \n",
    "# Saving the converted audio in a mp3 \n",
    "myobj.save(\"welcome.mp3\")\n",
    "  \n",
    "# Playing the converted file\n",
    "os.system(\"mpg321 welcome.mp3\")"
   ]
  },
  {
   "cell_type": "code",
   "execution_count": 121,
   "id": "bca0de31",
   "metadata": {},
   "outputs": [
    {
     "data": {
      "text/plain": [
       "28"
      ]
     },
     "execution_count": 121,
     "metadata": {},
     "output_type": "execute_result"
    }
   ],
   "source": [
    "#Q14  you have to write a fun which will take string and return a len of it without using a inbuilt fun len\n",
    "def find_length_str(string):\n",
    "    counter = 0\n",
    "    if type(string) != str:\n",
    "        print(\"Please enter a string...\")\n",
    "    else:\n",
    "        for s in string:\n",
    "            counter += 1\n",
    "            string += s\n",
    "        return counter\n",
    "        \n",
    "find_length_str('My name is Praveen Kumar 123')"
   ]
  },
  {
   "cell_type": "code",
   "execution_count": 125,
   "id": "0c040bdc",
   "metadata": {},
   "outputs": [
    {
     "ename": "FileNotFoundError",
     "evalue": "No such file: 'C:\\Users\\Hi\\IMG_3315'",
     "output_type": "error",
     "traceback": [
      "\u001b[1;31m---------------------------------------------------------------------------\u001b[0m",
      "\u001b[1;31mFileNotFoundError\u001b[0m                         Traceback (most recent call last)",
      "Input \u001b[1;32mIn [125]\u001b[0m, in \u001b[0;36m<cell line: 5>\u001b[1;34m()\u001b[0m\n\u001b[0;32m      2\u001b[0m \u001b[38;5;28;01mimport\u001b[39;00m \u001b[38;5;21;01mimageio\u001b[39;00m \u001b[38;5;28;01mas\u001b[39;00m \u001b[38;5;21;01miio\u001b[39;00m\n\u001b[0;32m      4\u001b[0m \u001b[38;5;66;03m# read an image\u001b[39;00m\n\u001b[1;32m----> 5\u001b[0m img \u001b[38;5;241m=\u001b[39m \u001b[43miio\u001b[49m\u001b[38;5;241;43m.\u001b[39;49m\u001b[43mimread\u001b[49m\u001b[43m(\u001b[49m\u001b[38;5;124;43m\"\u001b[39;49m\u001b[38;5;124;43mIMG_3315\u001b[39;49m\u001b[38;5;124;43m\"\u001b[39;49m\u001b[43m)\u001b[49m\n\u001b[0;32m      7\u001b[0m \u001b[38;5;66;03m# showing the image\u001b[39;00m\n\u001b[0;32m      8\u001b[0m iio\u001b[38;5;241m.\u001b[39mimwrite(\u001b[38;5;124m\"\u001b[39m\u001b[38;5;124mIMG_3315\u001b[39m\u001b[38;5;124m\"\u001b[39m, img)\n",
      "File \u001b[1;32mC:\\ProgramData\\Anaconda3\\lib\\site-packages\\imageio\\core\\functions.py:265\u001b[0m, in \u001b[0;36mimread\u001b[1;34m(uri, format, **kwargs)\u001b[0m\n\u001b[0;32m    260\u001b[0m     \u001b[38;5;28;01mraise\u001b[39;00m \u001b[38;5;167;01mTypeError\u001b[39;00m(\n\u001b[0;32m    261\u001b[0m         \u001b[38;5;124m'\u001b[39m\u001b[38;5;124mInvalid keyword argument \u001b[39m\u001b[38;5;124m\"\u001b[39m\u001b[38;5;124mmode\u001b[39m\u001b[38;5;124m\"\u001b[39m\u001b[38;5;124m, \u001b[39m\u001b[38;5;124m'\u001b[39m \u001b[38;5;124m'\u001b[39m\u001b[38;5;124mperhaps you mean \u001b[39m\u001b[38;5;124m\"\u001b[39m\u001b[38;5;124mpilmode\u001b[39m\u001b[38;5;124m\"\u001b[39m\u001b[38;5;124m?\u001b[39m\u001b[38;5;124m'\u001b[39m\n\u001b[0;32m    262\u001b[0m     )\n\u001b[0;32m    264\u001b[0m \u001b[38;5;66;03m# Get reader and read first\u001b[39;00m\n\u001b[1;32m--> 265\u001b[0m reader \u001b[38;5;241m=\u001b[39m read(uri, \u001b[38;5;28mformat\u001b[39m, \u001b[38;5;124m\"\u001b[39m\u001b[38;5;124mi\u001b[39m\u001b[38;5;124m\"\u001b[39m, \u001b[38;5;241m*\u001b[39m\u001b[38;5;241m*\u001b[39mkwargs)\n\u001b[0;32m    266\u001b[0m \u001b[38;5;28;01mwith\u001b[39;00m reader:\n\u001b[0;32m    267\u001b[0m     \u001b[38;5;28;01mreturn\u001b[39;00m reader\u001b[38;5;241m.\u001b[39mget_data(\u001b[38;5;241m0\u001b[39m)\n",
      "File \u001b[1;32mC:\\ProgramData\\Anaconda3\\lib\\site-packages\\imageio\\core\\functions.py:172\u001b[0m, in \u001b[0;36mget_reader\u001b[1;34m(uri, format, mode, **kwargs)\u001b[0m\n\u001b[0;32m    149\u001b[0m \u001b[38;5;124;03m\"\"\" get_reader(uri, format=None, mode='?', **kwargs)\u001b[39;00m\n\u001b[0;32m    150\u001b[0m \n\u001b[0;32m    151\u001b[0m \u001b[38;5;124;03mReturns a :class:`.Reader` object which can be used to read data\u001b[39;00m\n\u001b[1;32m   (...)\u001b[0m\n\u001b[0;32m    168\u001b[0m \u001b[38;5;124;03m    to see what arguments are available for a particular format.\u001b[39;00m\n\u001b[0;32m    169\u001b[0m \u001b[38;5;124;03m\"\"\"\u001b[39;00m\n\u001b[0;32m    171\u001b[0m \u001b[38;5;66;03m# Create request object\u001b[39;00m\n\u001b[1;32m--> 172\u001b[0m request \u001b[38;5;241m=\u001b[39m Request(uri, \u001b[38;5;124m\"\u001b[39m\u001b[38;5;124mr\u001b[39m\u001b[38;5;124m\"\u001b[39m \u001b[38;5;241m+\u001b[39m mode, \u001b[38;5;241m*\u001b[39m\u001b[38;5;241m*\u001b[39mkwargs)\n\u001b[0;32m    174\u001b[0m \u001b[38;5;66;03m# Get format\u001b[39;00m\n\u001b[0;32m    175\u001b[0m \u001b[38;5;28;01mif\u001b[39;00m \u001b[38;5;28mformat\u001b[39m \u001b[38;5;129;01mis\u001b[39;00m \u001b[38;5;129;01mnot\u001b[39;00m \u001b[38;5;28;01mNone\u001b[39;00m:\n",
      "File \u001b[1;32mC:\\ProgramData\\Anaconda3\\lib\\site-packages\\imageio\\core\\request.py:124\u001b[0m, in \u001b[0;36mRequest.__init__\u001b[1;34m(self, uri, mode, **kwargs)\u001b[0m\n\u001b[0;32m    121\u001b[0m     \u001b[38;5;28;01mraise\u001b[39;00m \u001b[38;5;167;01mValueError\u001b[39;00m(\u001b[38;5;124m'\u001b[39m\u001b[38;5;124mRequest requires mode[1] to be in \u001b[39m\u001b[38;5;124m\"\u001b[39m\u001b[38;5;124miIvV?\u001b[39m\u001b[38;5;124m\"\u001b[39m\u001b[38;5;124m'\u001b[39m)\n\u001b[0;32m    123\u001b[0m \u001b[38;5;66;03m# Parse what was given\u001b[39;00m\n\u001b[1;32m--> 124\u001b[0m \u001b[38;5;28;43mself\u001b[39;49m\u001b[38;5;241;43m.\u001b[39;49m\u001b[43m_parse_uri\u001b[49m\u001b[43m(\u001b[49m\u001b[43muri\u001b[49m\u001b[43m)\u001b[49m\n\u001b[0;32m    126\u001b[0m \u001b[38;5;66;03m# Set extension\u001b[39;00m\n\u001b[0;32m    127\u001b[0m \u001b[38;5;28;01mif\u001b[39;00m \u001b[38;5;28mself\u001b[39m\u001b[38;5;241m.\u001b[39m_filename \u001b[38;5;129;01mis\u001b[39;00m \u001b[38;5;129;01mnot\u001b[39;00m \u001b[38;5;28;01mNone\u001b[39;00m:\n",
      "File \u001b[1;32mC:\\ProgramData\\Anaconda3\\lib\\site-packages\\imageio\\core\\request.py:260\u001b[0m, in \u001b[0;36mRequest._parse_uri\u001b[1;34m(self, uri)\u001b[0m\n\u001b[0;32m    257\u001b[0m \u001b[38;5;28;01mif\u001b[39;00m is_read_request:\n\u001b[0;32m    258\u001b[0m     \u001b[38;5;66;03m# Reading: check that the file exists (but is allowed a dir)\u001b[39;00m\n\u001b[0;32m    259\u001b[0m     \u001b[38;5;28;01mif\u001b[39;00m \u001b[38;5;129;01mnot\u001b[39;00m os\u001b[38;5;241m.\u001b[39mpath\u001b[38;5;241m.\u001b[39mexists(fn):\n\u001b[1;32m--> 260\u001b[0m         \u001b[38;5;28;01mraise\u001b[39;00m \u001b[38;5;167;01mFileNotFoundError\u001b[39;00m(\u001b[38;5;124m\"\u001b[39m\u001b[38;5;124mNo such file: \u001b[39m\u001b[38;5;124m'\u001b[39m\u001b[38;5;132;01m%s\u001b[39;00m\u001b[38;5;124m'\u001b[39m\u001b[38;5;124m\"\u001b[39m \u001b[38;5;241m%\u001b[39m fn)\n\u001b[0;32m    261\u001b[0m \u001b[38;5;28;01melse\u001b[39;00m:\n\u001b[0;32m    262\u001b[0m     \u001b[38;5;66;03m# Writing: check that the directory to write to does exist\u001b[39;00m\n\u001b[0;32m    263\u001b[0m     dn \u001b[38;5;241m=\u001b[39m os\u001b[38;5;241m.\u001b[39mpath\u001b[38;5;241m.\u001b[39mdirname(fn)\n",
      "\u001b[1;31mFileNotFoundError\u001b[0m: No such file: 'C:\\Users\\Hi\\IMG_3315'"
     ]
    }
   ],
   "source": [
    "#Q19 To read a image file\n",
    "import imageio as iio\n",
    " \n",
    "# read an image\n",
    "img = iio.imread(\"IMG_3315\")\n",
    " \n",
    "# showing the image\n",
    "iio.imwrite(\"IMG_3315\", img)"
   ]
  },
  {
   "cell_type": "code",
   "execution_count": 1,
   "id": "33b34ca6",
   "metadata": {},
   "outputs": [
    {
     "name": "stdout",
     "output_type": "stream",
     "text": [
      "Defaulting to user installation because normal site-packages is not writeable\n",
      "Requirement already satisfied: opencv-python in c:\\users\\hi\\appdata\\roaming\\python\\python39\\site-packages (4.6.0.66)\n",
      "Requirement already satisfied: numpy>=1.19.3 in c:\\programdata\\anaconda3\\lib\\site-packages (from opencv-python) (1.21.5)\n",
      "Note: you may need to restart the kernel to use updated packages.\n"
     ]
    }
   ],
   "source": [
    "pip install opencv-python"
   ]
  },
  {
   "cell_type": "code",
   "execution_count": 1,
   "id": "5a5e9152",
   "metadata": {},
   "outputs": [
    {
     "name": "stdout",
     "output_type": "stream",
     "text": [
      "Error opening video  file\n"
     ]
    }
   ],
   "source": [
    "#Q22 : write a function which can read video file and play for you\n",
    "\n",
    "# importing libraries\n",
    "import cv2\n",
    "import numpy as np\n",
    "   \n",
    "# Create a VideoCapture object and read from input file\n",
    "cap = cv2.VideoCapture('camera.mp4')\n",
    "   \n",
    "# Check if camera opened successfully\n",
    "if (cap.isOpened()== False): \n",
    "    print(\"Error opening video  file\")\n",
    "   # Read until video is completed\n",
    "while(cap.isOpened()):\n",
    "      \n",
    "  # Capture frame-by-frame\n",
    "    ret, frame = cap.read()\n",
    "    if ret == True:\n",
    "   \n",
    "    # Display the resulting frame\n",
    "        cv2.imshow('Frame', frame)\n",
    "   \n",
    "    # Press Q on keyboard to  exit\n",
    "    if cv2.waitKey(25) & 0xFF == ord('q'):\n",
    "        break\n",
    "   \n",
    "  # Break the loop\n",
    "    else: \n",
    "        break\n",
    "   # When everything done, release \n",
    "# the video capture object\n",
    "cap.release()\n",
    "   \n",
    "# Closes all the frames\n",
    "cv2.destroyAllWindows()"
   ]
  },
  {
   "cell_type": "code",
   "execution_count": 2,
   "id": "12d6e362",
   "metadata": {},
   "outputs": [],
   "source": [
    "#Q23 Function to shutdown, restart and logout from the PC\n",
    "\n",
    "# import modules\n",
    "from tkinter import *\n",
    "import os\n",
    " \n",
    " # user define function\n",
    "def shutdown():\n",
    "    return os.system(\"shutdown /s /t 1\")\n",
    " \n",
    "def restart():\n",
    "    return os.system(\"shutdown /r /t 1\")\n",
    " \n",
    "def logout():\n",
    "    return os.system(\"shutdown -l\")\n",
    " \n",
    " # tkinter object\n",
    "master = Tk()\n",
    " \n",
    "# background set to grey\n",
    "master.configure(bg='light grey')\n",
    " \n",
    "# creating a button using the widget\n",
    "# Buttons that will call the submit function\n",
    "Button(master, text=\"Shutdown\", command=shutdown).grid(row=0)\n",
    "Button(master, text=\"Restart\", command=restart).grid(row=1)\n",
    "Button(master, text=\"Log out\", command=logout).grid(row=2)\n",
    " \n",
    "mainloop()"
   ]
  },
  {
   "cell_type": "code",
   "execution_count": 3,
   "id": "cc5b5a1f",
   "metadata": {},
   "outputs": [
    {
     "ename": "error",
     "evalue": "b'[ALERT] Application-specific password required: https://support.google.com/accounts/answer/185833 (Failure)'",
     "output_type": "error",
     "traceback": [
      "\u001b[1;31m---------------------------------------------------------------------------\u001b[0m",
      "\u001b[1;31merror\u001b[0m                                     Traceback (most recent call last)",
      "Input \u001b[1;32mIn [3]\u001b[0m, in \u001b[0;36m<cell line: 20>\u001b[1;34m()\u001b[0m\n\u001b[0;32m     17\u001b[0m mail \u001b[38;5;241m=\u001b[39m imaplib\u001b[38;5;241m.\u001b[39mIMAP4_SSL(gmail_host)\n\u001b[0;32m     19\u001b[0m \u001b[38;5;66;03m#login\u001b[39;00m\n\u001b[1;32m---> 20\u001b[0m \u001b[43mmail\u001b[49m\u001b[38;5;241;43m.\u001b[39;49m\u001b[43mlogin\u001b[49m\u001b[43m(\u001b[49m\u001b[43musername\u001b[49m\u001b[43m,\u001b[49m\u001b[43m \u001b[49m\u001b[43mapp_password\u001b[49m\u001b[43m)\u001b[49m\n\u001b[0;32m     22\u001b[0m \u001b[38;5;66;03m#select inbox\u001b[39;00m\n\u001b[0;32m     23\u001b[0m mail\u001b[38;5;241m.\u001b[39mselect(\u001b[38;5;124m\"\u001b[39m\u001b[38;5;124mINBOX\u001b[39m\u001b[38;5;124m\"\u001b[39m)\n",
      "File \u001b[1;32mC:\\ProgramData\\Anaconda3\\lib\\imaplib.py:612\u001b[0m, in \u001b[0;36mIMAP4.login\u001b[1;34m(self, user, password)\u001b[0m\n\u001b[0;32m    610\u001b[0m typ, dat \u001b[38;5;241m=\u001b[39m \u001b[38;5;28mself\u001b[39m\u001b[38;5;241m.\u001b[39m_simple_command(\u001b[38;5;124m'\u001b[39m\u001b[38;5;124mLOGIN\u001b[39m\u001b[38;5;124m'\u001b[39m, user, \u001b[38;5;28mself\u001b[39m\u001b[38;5;241m.\u001b[39m_quote(password))\n\u001b[0;32m    611\u001b[0m \u001b[38;5;28;01mif\u001b[39;00m typ \u001b[38;5;241m!=\u001b[39m \u001b[38;5;124m'\u001b[39m\u001b[38;5;124mOK\u001b[39m\u001b[38;5;124m'\u001b[39m:\n\u001b[1;32m--> 612\u001b[0m     \u001b[38;5;28;01mraise\u001b[39;00m \u001b[38;5;28mself\u001b[39m\u001b[38;5;241m.\u001b[39merror(dat[\u001b[38;5;241m-\u001b[39m\u001b[38;5;241m1\u001b[39m])\n\u001b[0;32m    613\u001b[0m \u001b[38;5;28mself\u001b[39m\u001b[38;5;241m.\u001b[39mstate \u001b[38;5;241m=\u001b[39m \u001b[38;5;124m'\u001b[39m\u001b[38;5;124mAUTH\u001b[39m\u001b[38;5;124m'\u001b[39m\n\u001b[0;32m    614\u001b[0m \u001b[38;5;28;01mreturn\u001b[39;00m typ, dat\n",
      "\u001b[1;31merror\u001b[0m: b'[ALERT] Application-specific password required: https://support.google.com/accounts/answer/185833 (Failure)'"
     ]
    }
   ],
   "source": [
    "#Q25 write a function whihc will be able to access your mail\n",
    "\n",
    "#modules\n",
    "import imaplib\n",
    "import email\n",
    "\n",
    "#credentials\n",
    "username =\"dwondershikha@gmail.com\"\n",
    "\n",
    "#generated app password\n",
    "app_password= \"dshikha2218\"\n",
    "\n",
    "# https://www.systoolsgroup.com/imap/\n",
    "gmail_host= 'imap.gmail.com'\n",
    "\n",
    "#set connection\n",
    "mail = imaplib.IMAP4_SSL(gmail_host)\n",
    "\n",
    "#login\n",
    "mail.login(username, app_password)\n",
    "\n",
    "#select inbox\n",
    "mail.select(\"INBOX\")\n",
    "\n",
    "#select specific mails\n",
    "_, selected_mails = mail.search(typ, '(FROM \"dwondershikha@gmail.com\")')\n",
    "\n",
    "#total number of mails from specific user\n",
    "print(\"Total Messages from dwondershikha@gmail.com:\" , len(selected_mails[0].split()))\n",
    "\n",
    "for num in selected_mails[0].split():\n",
    "    _, data = mail.fetch(num , '(RFC822)')\n",
    "    _, bytes_data = data[0]\n",
    "\n",
    "    #convert the byte data to message\n",
    "    email_message = email.message_from_bytes(bytes_data)\n",
    "    print(\"\\n===========================================\")\n",
    "\n",
    "    #access data\n",
    "    print(\"Subject: \",email_message[\"subject\"])\n",
    "    print(\"To:\", email_message[\"to\"])\n",
    "    print(\"From: \",email_message[\"from\"])\n",
    "    print(\"Date: \",email_message[\"date\"])\n",
    "    for part in email_message.walk():\n",
    "        if part.get_content_type()==\"text/plain\" or part.get_content_type()==\"text/html\":\n",
    "            message = part.get_payload(decode=True)\n",
    "            print(\"Message: \\n\", message.decode())\n",
    "            print(\"==========================================\\n\")\n",
    "            break"
   ]
  },
  {
   "cell_type": "code",
   "execution_count": null,
   "id": "4692d5e7",
   "metadata": {},
   "outputs": [],
   "source": []
  }
 ],
 "metadata": {
  "kernelspec": {
   "display_name": "Python 3 (ipykernel)",
   "language": "python",
   "name": "python3"
  },
  "language_info": {
   "codemirror_mode": {
    "name": "ipython",
    "version": 3
   },
   "file_extension": ".py",
   "mimetype": "text/x-python",
   "name": "python",
   "nbconvert_exporter": "python",
   "pygments_lexer": "ipython3",
   "version": "3.9.12"
  }
 },
 "nbformat": 4,
 "nbformat_minor": 5
}
