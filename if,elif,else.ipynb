{
 "cells": [
  {
   "cell_type": "code",
   "execution_count": 1,
   "id": "3f2a8f28",
   "metadata": {},
   "outputs": [
    {
     "name": "stdout",
     "output_type": "stream",
     "text": [
      "this is my first condition\n"
     ]
    }
   ],
   "source": [
    "a = 10\n",
    "if a == 10 : \n",
    "    print(\"this is my first condition\")"
   ]
  },
  {
   "cell_type": "code",
   "execution_count": 2,
   "id": "9d6ac89b",
   "metadata": {},
   "outputs": [],
   "source": [
    "a = 10\n",
    "if a == 11 : \n",
    "    print(\"this is my first condition\")"
   ]
  },
  {
   "cell_type": "code",
   "execution_count": 3,
   "id": "13ec82cc",
   "metadata": {},
   "outputs": [],
   "source": [
    "a = 10\n",
    "if a > 11 :\n",
    "    pass\n",
    "    "
   ]
  },
  {
   "cell_type": "code",
   "execution_count": 4,
   "id": "1905ddaf",
   "metadata": {},
   "outputs": [
    {
     "name": "stdout",
     "output_type": "stream",
     "text": [
      "print this if condition is true\n"
     ]
    }
   ],
   "source": [
    "a = 10\n",
    "if a>8 :\n",
    "    print (\"print this if condition is true\")"
   ]
  },
  {
   "cell_type": "code",
   "execution_count": 5,
   "id": "ff483801",
   "metadata": {},
   "outputs": [],
   "source": [
    "a = 10\n",
    "if a<8 :\n",
    "    print (\"print this if condition is true\")"
   ]
  },
  {
   "cell_type": "code",
   "execution_count": 6,
   "id": "964ca45b",
   "metadata": {},
   "outputs": [
    {
     "name": "stdout",
     "output_type": "stream",
     "text": [
      "my condition is false\n"
     ]
    }
   ],
   "source": [
    "a = 10\n",
    "if a!=11 :\n",
    "    print (\"my condition is false\")\n",
    "else : \n",
    "    print(\"print this\")"
   ]
  },
  {
   "cell_type": "code",
   "execution_count": 7,
   "id": "d5632252",
   "metadata": {},
   "outputs": [
    {
     "name": "stdout",
     "output_type": "stream",
     "text": [
      "print this\n"
     ]
    }
   ],
   "source": [
    "a = 10\n",
    "if a==11 :\n",
    "    print (\"my condition is false\")\n",
    "else : \n",
    "    print(\"print this\")"
   ]
  },
  {
   "cell_type": "code",
   "execution_count": 8,
   "id": "999bce07",
   "metadata": {},
   "outputs": [
    {
     "name": "stdout",
     "output_type": "stream",
     "text": [
      "if all the blocks will fail then do this \n"
     ]
    }
   ],
   "source": [
    "a = 10 \n",
    "if a == 12 : \n",
    "    print (\"here we are trying to compare 10 with 12\")\n",
    "elif a==11:\n",
    "    print (\"we are trying to compare 10 with 11\")\n",
    "else :\n",
    "    print(\"if all the blocks will fail then do this \")"
   ]
  },
  {
   "cell_type": "code",
   "execution_count": 9,
   "id": "4850b7a3",
   "metadata": {},
   "outputs": [
    {
     "name": "stdout",
     "output_type": "stream",
     "text": [
      "we are trying to compare 10 with 11\n"
     ]
    }
   ],
   "source": [
    "a = 10 \n",
    "if a == 12 : \n",
    "    print (\"here we are trying to compare 10 with 12\")\n",
    "elif a==10:\n",
    "    print (\"we are trying to compare 10 with 11\")\n",
    "else :\n",
    "    print(\"if all the blocks will fail then do this \")"
   ]
  },
  {
   "cell_type": "code",
   "execution_count": 10,
   "id": "17e9b698",
   "metadata": {},
   "outputs": [
    {
     "name": "stdout",
     "output_type": "stream",
     "text": [
      "i will be able to buy a jacket\n"
     ]
    }
   ],
   "source": [
    "price = 500 \n",
    "if price > 500:\n",
    "    print(\"may b i wont able to buy a jacket\")\n",
    "elif price <= 500 :\n",
    "    print(\"i will be able to buy a jacket\")"
   ]
  },
  {
   "cell_type": "code",
   "execution_count": 11,
   "id": "3c32a170",
   "metadata": {},
   "outputs": [
    {
     "name": "stdout",
     "output_type": "stream",
     "text": [
      "i dont know\n"
     ]
    }
   ],
   "source": [
    "price = 500 \n",
    "if price > 500:\n",
    "    print(\"may b i wont able to buy a jacket\")\n",
    "elif price < 500 :\n",
    "    print(\"i will be able to buy a jacket\")\n",
    "else : \n",
    "    print(\"i dont know\")"
   ]
  },
  {
   "cell_type": "code",
   "execution_count": 12,
   "id": "0cff9160",
   "metadata": {},
   "outputs": [
    {
     "name": "stdout",
     "output_type": "stream",
     "text": [
      "for sure i will be able to buy\n"
     ]
    }
   ],
   "source": [
    "price = 500 \n",
    "if price > 500:\n",
    "    print(\"may b i wont able to buy a jacket\")\n",
    "elif price < 500 :\n",
    "    print(\"i will be able to buy a jacket\")\n",
    "elif price == 500:\n",
    "    print (\"for sure i will be able to buy\")\n",
    "else : \n",
    "    print(\"i dont know\")"
   ]
  },
  {
   "cell_type": "code",
   "execution_count": 13,
   "id": "61781b20",
   "metadata": {},
   "outputs": [
    {
     "data": {
      "text/plain": [
       "True"
      ]
     },
     "execution_count": 13,
     "metadata": {},
     "output_type": "execute_result"
    }
   ],
   "source": [
    "l=[1,2,3,4,5,6]\n",
    "2 in l "
   ]
  },
  {
   "cell_type": "code",
   "execution_count": 14,
   "id": "f2900c1b",
   "metadata": {},
   "outputs": [
    {
     "name": "stdout",
     "output_type": "stream",
     "text": [
      "try to perfor task\n"
     ]
    }
   ],
   "source": [
    "if 2 in l :\n",
    "    print(\"try to perfor task\")\n",
    "else : \n",
    "    print(\"do not perform this task\")"
   ]
  },
  {
   "cell_type": "code",
   "execution_count": 15,
   "id": "51c1af73",
   "metadata": {},
   "outputs": [
    {
     "name": "stdout",
     "output_type": "stream",
     "text": [
      "do not perform this task\n"
     ]
    }
   ],
   "source": [
    "if 60 in l :\n",
    "    print(\"try to perfor task\")\n",
    "else : \n",
    "    print(\"do not perform this task\")"
   ]
  },
  {
   "cell_type": "code",
   "execution_count": 16,
   "id": "383edd98",
   "metadata": {},
   "outputs": [
    {
     "data": {
      "text/plain": [
       "False"
      ]
     },
     "execution_count": 16,
     "metadata": {},
     "output_type": "execute_result"
    }
   ],
   "source": [
    "60 in l"
   ]
  },
  {
   "cell_type": "code",
   "execution_count": 17,
   "id": "78ee7f62",
   "metadata": {},
   "outputs": [
    {
     "data": {
      "text/plain": [
       "[1, 2, 3, 4, 5, 6]"
      ]
     },
     "execution_count": 17,
     "metadata": {},
     "output_type": "execute_result"
    }
   ],
   "source": [
    "l"
   ]
  },
  {
   "cell_type": "code",
   "execution_count": 18,
   "id": "b6d6b3b2",
   "metadata": {},
   "outputs": [
    {
     "name": "stdout",
     "output_type": "stream",
     "text": [
      "try to do a addition\n"
     ]
    }
   ],
   "source": [
    "if 1 in l :\n",
    "    print(\"try to do a addition\")\n",
    "elif 2 in l :\n",
    "    print(\"try to do sub\")\n",
    "elif 3 in l :\n",
    "    print(\"try to do nul\")"
   ]
  },
  {
   "cell_type": "code",
   "execution_count": 19,
   "id": "3746031b",
   "metadata": {},
   "outputs": [
    {
     "name": "stdout",
     "output_type": "stream",
     "text": [
      "try to do sub\n"
     ]
    }
   ],
   "source": [
    "if 10 in l :\n",
    "    print(\"try to do a addition\")\n",
    "elif 2 in l :\n",
    "    print(\"try to do sub\")\n",
    "elif 3 in l :\n",
    "    print(\"try to do nul\")"
   ]
  },
  {
   "cell_type": "code",
   "execution_count": 20,
   "id": "23394463",
   "metadata": {},
   "outputs": [
    {
     "name": "stdout",
     "output_type": "stream",
     "text": [
      "try to do sub\n",
      "this is new statement\n"
     ]
    }
   ],
   "source": [
    "if 10 in l :\n",
    "    print(\"try to do a addition\")\n",
    "elif 2 in l :\n",
    "    print(\"try to do sub\")\n",
    "elif 3 in l :\n",
    "    print(\"try to do nul\")\n",
    "if 4 in l:\n",
    "    print(\"this is new statement\")"
   ]
  },
  {
   "cell_type": "code",
   "execution_count": 21,
   "id": "4f5d1c7c",
   "metadata": {},
   "outputs": [],
   "source": [
    "a = 400"
   ]
  },
  {
   "cell_type": "code",
   "execution_count": 22,
   "id": "f74192f0",
   "metadata": {},
   "outputs": [
    {
     "name": "stdout",
     "output_type": "stream",
     "text": [
      "300\n"
     ]
    }
   ],
   "source": [
    "b = int(input())"
   ]
  },
  {
   "cell_type": "code",
   "execution_count": 23,
   "id": "e4bc3ceb",
   "metadata": {},
   "outputs": [
    {
     "data": {
      "text/plain": [
       "300"
      ]
     },
     "execution_count": 23,
     "metadata": {},
     "output_type": "execute_result"
    }
   ],
   "source": [
    "b"
   ]
  },
  {
   "cell_type": "code",
   "execution_count": 24,
   "id": "cdb80b01",
   "metadata": {},
   "outputs": [
    {
     "data": {
      "text/plain": [
       "int"
      ]
     },
     "execution_count": 24,
     "metadata": {},
     "output_type": "execute_result"
    }
   ],
   "source": [
    "type(b)"
   ]
  },
  {
   "cell_type": "code",
   "execution_count": 25,
   "id": "b72ee7e3",
   "metadata": {},
   "outputs": [
    {
     "name": "stdout",
     "output_type": "stream",
     "text": [
      "300\n",
      "i will be able to buy something\n",
      "i will be able to buy a jacket\n"
     ]
    }
   ],
   "source": [
    "price=int(input())\n",
    "if price < 500:\n",
    "    print(\"i will be able to buy something\")\n",
    "    if price <400 :\n",
    "        print(\"i will be able to buy a jacket\")\n",
    "    elif price < 300:\n",
    "        print(\"i will be able to buy a shirt\")\n",
    "    else :\n",
    "        print(\"i wont be able to buy anything\")\n",
    "else:\n",
    "    print(\"i wont be able to buy anything withthis price\")"
   ]
  },
  {
   "cell_type": "code",
   "execution_count": 26,
   "id": "b1dd2a9b",
   "metadata": {},
   "outputs": [
    {
     "name": "stdout",
     "output_type": "stream",
     "text": [
      "350\n",
      "i will be able to buy something\n",
      "i will be able to buy a jacket\n"
     ]
    }
   ],
   "source": [
    "price=int(input())\n",
    "if price < 500:\n",
    "    print(\"i will be able to buy something\")\n",
    "    if price <400 :\n",
    "        print(\"i will be able to buy a jacket\")\n",
    "    elif price < 300:\n",
    "        \n",
    "        print(\"i will be able to buy a shirt\")\n",
    "        if price <200:\n",
    "            print(\"i would like to do someting\")\n",
    "    else :\n",
    "        print(\"i wont be able to buy anything\")\n",
    "else:\n",
    "    print(\"i wont be able to buy anything withthis price\")\n",
    "    if price >500 :\n",
    "        print(\"lets try something else\")"
   ]
  },
  {
   "cell_type": "code",
   "execution_count": 27,
   "id": "856a51c6",
   "metadata": {},
   "outputs": [
    {
     "name": "stdout",
     "output_type": "stream",
     "text": [
      "250\n",
      "No Gre\n",
      "Tofel\n",
      "txt someone\n"
     ]
    }
   ],
   "source": [
    "m = int(input())\n",
    "if m < 600 :\n",
    "    print(\"No Gre\")\n",
    "    if m < 500:\n",
    "        print(\"Tofel\")\n",
    "        if m < 400:\n",
    "            print(\"txt someone\")\n",
    "    else:\n",
    "        print(\"you got tofel\")\n",
    "else:\n",
    "    print(\"you got gre congratulations\")"
   ]
  },
  {
   "cell_type": "code",
   "execution_count": 28,
   "id": "95401e81",
   "metadata": {},
   "outputs": [
    {
     "name": "stdout",
     "output_type": "stream",
     "text": [
      "enter the floating point number 53.22\n",
      "enter the value is a positive number\n"
     ]
    }
   ],
   "source": [
    "val = float(input(\"enter the floating point number \"))\n",
    "if val >=0:\n",
    "    if val ==0:\n",
    "        print(\"entered value is zero\")\n",
    "    else:\n",
    "        print(\"enter the value is a positive number\")\n",
    "else:\n",
    "    print(\"entered number is a negative number\")"
   ]
  },
  {
   "cell_type": "code",
   "execution_count": 29,
   "id": "16546913",
   "metadata": {},
   "outputs": [
    {
     "name": "stdout",
     "output_type": "stream",
     "text": [
      "try to do something\n"
     ]
    }
   ],
   "source": [
    "a = 10\n",
    "if a<=10:\n",
    "    print(\"try to do something\")"
   ]
  },
  {
   "cell_type": "code",
   "execution_count": 30,
   "id": "a709c845",
   "metadata": {},
   "outputs": [
    {
     "name": "stdout",
     "output_type": "stream",
     "text": [
      "try to do something\n"
     ]
    }
   ],
   "source": [
    "a = 10 \n",
    "if a <10 or a==10 :\n",
    "    print(\"try to do something\")"
   ]
  },
  {
   "cell_type": "code",
   "execution_count": 31,
   "id": "d8f7973e",
   "metadata": {},
   "outputs": [],
   "source": [
    "a = 10 \n",
    "if a <10 or a>10 :\n",
    "    print(\"try to do something\")"
   ]
  },
  {
   "cell_type": "code",
   "execution_count": 32,
   "id": "3f6146c0",
   "metadata": {},
   "outputs": [],
   "source": [
    "a = 10 \n",
    "if a <10 and a==10 :\n",
    "    print(\"try to do something\")"
   ]
  },
  {
   "cell_type": "code",
   "execution_count": 33,
   "id": "43eb8f53",
   "metadata": {},
   "outputs": [],
   "source": [
    "a =\"sudh\"\n",
    "if a ==\"sudh\" and a == \"Sudh\" :\n",
    "    print(\"this is sudh\")"
   ]
  },
  {
   "cell_type": "code",
   "execution_count": 34,
   "id": "677b3f20",
   "metadata": {},
   "outputs": [
    {
     "name": "stdout",
     "output_type": "stream",
     "text": [
      "this is sudh\n"
     ]
    }
   ],
   "source": [
    "a =\"sudh\"\n",
    "if a ==\"sudh\" or a == \"Sudh\" :\n",
    "    print(\"this is sudh\")"
   ]
  },
  {
   "cell_type": "code",
   "execution_count": 35,
   "id": "b0a82fe6",
   "metadata": {},
   "outputs": [
    {
     "name": "stdout",
     "output_type": "stream",
     "text": [
      "lets do something\n"
     ]
    }
   ],
   "source": [
    "a=10\n",
    "b=11 \n",
    "c=12\n",
    "d=13\n",
    "if a == 9 or b==11 and c==12 and d==13:\n",
    "    print(\"lets do something\")"
   ]
  },
  {
   "cell_type": "code",
   "execution_count": 36,
   "id": "7a42e70a",
   "metadata": {},
   "outputs": [],
   "source": [
    "d = {'key1' : \"value\", \"key2\" : \"sudh\" , \"key3\" : \"iNeuron\"}"
   ]
  },
  {
   "cell_type": "code",
   "execution_count": 37,
   "id": "a0abd676",
   "metadata": {},
   "outputs": [
    {
     "name": "stdout",
     "output_type": "stream",
     "text": [
      "all the values are not verified\n"
     ]
    }
   ],
   "source": [
    "if d['key1'] == \"value\" and d['key2'] == \"Sudh\" and d['key3'] == \"iNeuron\" :\n",
    "    print(\"all the values are verified\")\n",
    "    print(d.values())\n",
    "else :\n",
    "    print(\"all the values are not verified\")\n"
   ]
  },
  {
   "cell_type": "code",
   "execution_count": 38,
   "id": "3ff0c012",
   "metadata": {},
   "outputs": [
    {
     "data": {
      "text/plain": [
       "'value'"
      ]
     },
     "execution_count": 38,
     "metadata": {},
     "output_type": "execute_result"
    }
   ],
   "source": [
    "d['key1']"
   ]
  },
  {
   "cell_type": "code",
   "execution_count": 39,
   "id": "ed4b7e93",
   "metadata": {},
   "outputs": [],
   "source": [
    "l = [1,2,3,4,5,\"sudh\",234.45]"
   ]
  },
  {
   "cell_type": "code",
   "execution_count": 40,
   "id": "9991ab63",
   "metadata": {},
   "outputs": [
    {
     "data": {
      "text/plain": [
       "1"
      ]
     },
     "execution_count": 40,
     "metadata": {},
     "output_type": "execute_result"
    }
   ],
   "source": [
    "l[0]"
   ]
  },
  {
   "cell_type": "code",
   "execution_count": 41,
   "id": "7473ac08",
   "metadata": {},
   "outputs": [
    {
     "data": {
      "text/plain": [
       "2"
      ]
     },
     "execution_count": 41,
     "metadata": {},
     "output_type": "execute_result"
    }
   ],
   "source": [
    "l[1]"
   ]
  },
  {
   "cell_type": "code",
   "execution_count": 42,
   "id": "6b5c277f",
   "metadata": {},
   "outputs": [
    {
     "data": {
      "text/plain": [
       "[3, 4, 5]"
      ]
     },
     "execution_count": 42,
     "metadata": {},
     "output_type": "execute_result"
    }
   ],
   "source": [
    "l[2:5]"
   ]
  },
  {
   "cell_type": "code",
   "execution_count": 43,
   "id": "64df4694",
   "metadata": {},
   "outputs": [
    {
     "name": "stdout",
     "output_type": "stream",
     "text": [
      "1\n",
      "2\n",
      "3\n",
      "4\n",
      "5\n",
      "sudh\n",
      "234.45\n"
     ]
    }
   ],
   "source": [
    "for i in l :\n",
    "    print(i)"
   ]
  },
  {
   "cell_type": "code",
   "execution_count": 44,
   "id": "5d1dfea9",
   "metadata": {
    "scrolled": true
   },
   "outputs": [
    {
     "data": {
      "text/plain": [
       "[1, 2, 3, 4, 5, 'sudh', 234.45]"
      ]
     },
     "execution_count": 44,
     "metadata": {},
     "output_type": "execute_result"
    }
   ],
   "source": [
    "l"
   ]
  },
  {
   "cell_type": "code",
   "execution_count": 45,
   "id": "a6c18d3a",
   "metadata": {},
   "outputs": [
    {
     "name": "stdout",
     "output_type": "stream",
     "text": [
      "2\n",
      "3\n",
      "4\n",
      "5\n",
      "6\n",
      "sudh1\n",
      "235.45\n"
     ]
    }
   ],
   "source": [
    "for i in l :\n",
    "    if type(i) == int or type(i) == float :\n",
    "        print(i+1)\n",
    "    elif type(i) == str :\n",
    "        print(i+str(1))"
   ]
  },
  {
   "cell_type": "code",
   "execution_count": 46,
   "id": "64e6b396",
   "metadata": {},
   "outputs": [
    {
     "data": {
      "text/plain": [
       "[1, 2, 3, 4, 5, 'sudh', 234.45]"
      ]
     },
     "execution_count": 46,
     "metadata": {},
     "output_type": "execute_result"
    }
   ],
   "source": [
    "l"
   ]
  },
  {
   "cell_type": "code",
   "execution_count": 47,
   "id": "c829202a",
   "metadata": {},
   "outputs": [],
   "source": [
    "l1 = []\n",
    "for i in l :\n",
    "    if type(i) == int:\n",
    "        l1.append(i)"
   ]
  },
  {
   "cell_type": "code",
   "execution_count": 48,
   "id": "b2dbb7c8",
   "metadata": {},
   "outputs": [
    {
     "data": {
      "text/plain": [
       "[1, 2, 3, 4, 5]"
      ]
     },
     "execution_count": 48,
     "metadata": {},
     "output_type": "execute_result"
    }
   ],
   "source": [
    "l1"
   ]
  },
  {
   "cell_type": "code",
   "execution_count": 49,
   "id": "b056868e",
   "metadata": {},
   "outputs": [
    {
     "data": {
      "text/plain": [
       "[1, 2, 3, 4, 5, 'sudh', 234.45]"
      ]
     },
     "execution_count": 49,
     "metadata": {},
     "output_type": "execute_result"
    }
   ],
   "source": [
    "l\n"
   ]
  },
  {
   "cell_type": "code",
   "execution_count": 50,
   "id": "743bb8bf",
   "metadata": {},
   "outputs": [],
   "source": [
    "l1 = []\n",
    "for i in l :\n",
    "    if type(i) == int:\n",
    "        l1.append(i)"
   ]
  },
  {
   "cell_type": "code",
   "execution_count": 51,
   "id": "5d386dca",
   "metadata": {},
   "outputs": [
    {
     "data": {
      "text/plain": [
       "[1, 2, 3, 4, 5]"
      ]
     },
     "execution_count": 51,
     "metadata": {},
     "output_type": "execute_result"
    }
   ],
   "source": [
    "l1"
   ]
  },
  {
   "cell_type": "code",
   "execution_count": null,
   "id": "7e4f5462",
   "metadata": {},
   "outputs": [],
   "source": []
  }
 ],
 "metadata": {
  "kernelspec": {
   "display_name": "Python 3 (ipykernel)",
   "language": "python",
   "name": "python3"
  },
  "language_info": {
   "codemirror_mode": {
    "name": "ipython",
    "version": 3
   },
   "file_extension": ".py",
   "mimetype": "text/x-python",
   "name": "python",
   "nbconvert_exporter": "python",
   "pygments_lexer": "ipython3",
   "version": "3.9.12"
  }
 },
 "nbformat": 4,
 "nbformat_minor": 5
}
